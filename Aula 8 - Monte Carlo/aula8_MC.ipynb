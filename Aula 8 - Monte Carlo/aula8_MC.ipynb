{
  "nbformat": 4,
  "nbformat_minor": 0,
  "metadata": {
    "colab": {
      "name": "aula8_MC.ipynb",
      "provenance": [],
      "collapsed_sections": [
        "nVieJg3nB2EH",
        "JN9MCOUge-NB"
      ],
      "authorship_tag": "ABX9TyOYUqFd0V8n1zXW7PJRQOcU",
      "include_colab_link": true
    },
    "kernelspec": {
      "name": "python3",
      "display_name": "Python 3"
    },
    "language_info": {
      "name": "python"
    }
  },
  "cells": [
    {
      "cell_type": "markdown",
      "metadata": {
        "id": "view-in-github",
        "colab_type": "text"
      },
      "source": [
        "<a href=\"https://colab.research.google.com/github/VitorSRamos/FAE/blob/main/Aula%208%20-%20Monte%20Carlo/aula8_MC.ipynb\" target=\"_parent\"><img src=\"https://colab.research.google.com/assets/colab-badge.svg\" alt=\"Open In Colab\"/></a>"
      ]
    },
    {
      "cell_type": "code",
      "metadata": {
        "id": "Lzx_zsdKJ1Kj"
      },
      "source": [
        "# Importações iniciais\n",
        "import numpy as np"
      ],
      "execution_count": null,
      "outputs": []
    },
    {
      "cell_type": "markdown",
      "metadata": {
        "id": "nVieJg3nB2EH"
      },
      "source": [
        "# Problema 1\n",
        "Agulha de Buffon: Estimar $\\pi$ para N = 10, 50, 100, 1000"
      ]
    },
    {
      "cell_type": "markdown",
      "metadata": {
        "id": "q6xvZXxrLfjS"
      },
      "source": [
        "Avaliando casos de agulhas de comprimento $l$ com centros entre as linhas $y = 0$ e $y = d$, gerando aleatóriamente $y$ e $\\theta$ e avaliando se há interceptação. A distância do centro de uma agulha a uma das linhas é dada pelo menor valor entre $y$ e $d-y$. Caso essa distância seja menor do que $\\frac{l \\sin(\\theta)}{2}$, a agulha intercepta. O maior valor possível para $x$ é $d/2$, assim, a probabilidade a priori de uma agulha interceptar uma linha é $\\frac{2l}{d \\pi}$. Ao comparar com a probabilidade a posteriori, temos:\n",
        "\n",
        "\\begin{equation}\n",
        "    \\pi = \\frac{2 N l}{n_{int} d}\n",
        "\\end{equation}\n",
        "Onde $N$ é o número total de agulhas jogadas e $n_{int}$ é o número de agulhas que interceptam."
      ]
    },
    {
      "cell_type": "code",
      "metadata": {
        "id": "qq01BIGT8d8x"
      },
      "source": [
        "def buffon(N, d, l):\n",
        "    n_int = 0 # Inicializando a contagem de interceptações\n",
        "    for _ in range(N):\n",
        "        # Gerando pontos\n",
        "        y_coord = np.random.uniform(0, d)\n",
        "        theta_coord = np.random.uniform(0, np.pi)\n",
        "\n",
        "        # Distância do centro da agulha a uma das linhas => menor valor entre distância para linha de cima (y=d) e a de baixo (y=0)\n",
        "        x = min(d - y_coord, y_coord)\n",
        "\n",
        "        if (l * np.sin(theta_coord) / 2) >= x: # Caso a agulha intercepte\n",
        "            n_int += 1 # aumenta a contagem de interceptações\n",
        "\n",
        "    # Estimativa de pi baseada na equação acima\n",
        "    est_pi = (2 * N * l ) / (n_int * d)\n",
        "\n",
        "    print('Para N = {}, a estimativa para pi é de {}'.format(N, est_pi))"
      ],
      "execution_count": null,
      "outputs": []
    },
    {
      "cell_type": "code",
      "metadata": {
        "colab": {
          "base_uri": "https://localhost:8080/"
        },
        "id": "tfQ2zl2ZN7DG",
        "outputId": "8f039356-6330-4f88-a47a-7c56a5718440"
      },
      "source": [
        "# Definindo a altura da linha e o comprimento das agulhas\n",
        "d = 1\n",
        "l = 0.75 * d # 75% da distância\n",
        "\n",
        "# Rodando para os casos pedidos\n",
        "buffon(10, d, l)\n",
        "buffon(50, d, l)\n",
        "buffon(100, d, l)\n",
        "buffon(1000, d, l)"
      ],
      "execution_count": null,
      "outputs": [
        {
          "output_type": "stream",
          "name": "stdout",
          "text": [
            "Para N = 10, a estimativa para pi é de 3.0\n",
            "Para N = 50, a estimativa para pi é de 2.5\n",
            "Para N = 100, a estimativa para pi é de 3.5714285714285716\n",
            "Para N = 1000, a estimativa para pi é de 3.225806451612903\n"
          ]
        }
      ]
    },
    {
      "cell_type": "markdown",
      "metadata": {
        "id": "JN9MCOUge-NB"
      },
      "source": [
        "# Problema 2\n",
        "Método da Rejeição: Fazer um programa que resolva integrais definidas\n",
        "usando o método."
      ]
    },
    {
      "cell_type": "markdown",
      "metadata": {
        "id": "V1OGZXG9mVN7"
      },
      "source": [
        "Vamos integrar a função $f(x) = 2 + x^2$ no intervalo de 2 a 5 usando $I = A \\frac{m}{N}$"
      ]
    },
    {
      "cell_type": "code",
      "metadata": {
        "id": "07nb4oMDnB6k"
      },
      "source": [
        "def integrate(function, lim_a, lim_b, N_tot):\n",
        "    \n",
        "    n_aceitos = 0 # inicializando contagem de pontos aceitos\n",
        "    \n",
        "    # Encontrando um valor máximo da função dentro do intervalo\n",
        "    x_range = np.linspace(lim_a, lim_b, 100)\n",
        "    y_range = function(x_range) # Aplico a função a todos os pontos do range \n",
        "\n",
        "    y_max = max(y_range) # Pego o máximo desta lista como o valor máimo da função no tervalo\n",
        "\n",
        "    # Calculando a área do retângulo de geração de pontos:\n",
        "    A_ret = (lim_b - lim_a) * y_max\n",
        "\n",
        "    for _ in range(N_tot):\n",
        "        # gerando coordenadas x e y nos intervalos especificados\n",
        "        x_coord = np.random.uniform(lim_a, lim_b) \n",
        "        y_coord = np.random.uniform(0, y_max)\n",
        "\n",
        "        if y_coord < function(x_coord): # Caso a coordenada y seja menor que f(x), ou seja, o ponto esteja abaixo da curva, adiciona-se 1 à contagem de pontos aceitos\n",
        "            n_aceitos += 1\n",
        "\n",
        "    # Calculando a integral como na equação descrita\n",
        "    I = A_ret * n_aceitos / N_tot\n",
        "\n",
        "    print('A integral é: {}'.format(I))"
      ],
      "execution_count": null,
      "outputs": []
    },
    {
      "cell_type": "code",
      "metadata": {
        "colab": {
          "base_uri": "https://localhost:8080/"
        },
        "id": "QJpRUrzYn0HN",
        "outputId": "da28cb0f-4982-49ed-e6a7-f9e0c0322ab8"
      },
      "source": [
        "# Criando a função a ser integrada\n",
        "def func_x(x): \n",
        "    return 2 + x**2\n",
        "\n",
        "# Definindo os limites da integral definida\n",
        "a = 2\n",
        "b = 5\n",
        "\n",
        "integrate(func_x, a, b, 1000) # Calcular a integral usando mil pontos"
      ],
      "execution_count": null,
      "outputs": [
        {
          "output_type": "stream",
          "name": "stdout",
          "text": [
            "A integral é: 44.793\n"
          ]
        }
      ]
    }
  ]
}