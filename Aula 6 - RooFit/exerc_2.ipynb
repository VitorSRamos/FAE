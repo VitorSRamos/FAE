{
 "cells": [
  {
   "cell_type": "code",
   "execution_count": 1,
   "id": "a7053a6a",
   "metadata": {},
   "outputs": [
    {
     "name": "stdout",
     "output_type": "stream",
     "text": [
      "Welcome to JupyROOT 6.24/04\n",
      "\n",
      "\u001b[1mRooFit v3.60 -- Developed by Wouter Verkerke and David Kirkby\u001b[0m \n",
      "                Copyright (C) 2000-2013 NIKHEF, University of California & Stanford University\n",
      "                All rights reserved, please read http://roofit.sourceforge.net/license.txt\n",
      "\n"
     ]
    }
   ],
   "source": [
    "#Importando ROOT e o arquivo de dados\n",
    "import ROOT\n",
    "\n",
    "fInput = ROOT.TFile(\"Data/DataSet_lowstat.root\")\n",
    "dataset = fInput.Get(\"data\")"
   ]
  },
  {
   "cell_type": "code",
   "execution_count": 2,
   "id": "3c2641e2",
   "metadata": {},
   "outputs": [],
   "source": [
    "# Inicializando as variáveis e parâmetros para a ressonância jpsi\n",
    "\n",
    "mass = ROOT.RooRealVar(\"mass\",\"mass\",2.,6.,\"GeV\")\n",
    "meanJpsi = ROOT.RooRealVar(\"meanJpsi\",\"meanJpsi\",3.1,2.8,3.2)\n",
    "sigmaJpsi = ROOT.RooRealVar(\"sigmaJpsi\",\"sigmaJpsi\",0.3,0.0001,1.)\n",
    "alphaJpsi = ROOT.RooRealVar(\"alphaJpsi\",\"alphaJpsi\",1.5,-5.,5.)\n",
    "nJpsi = ROOT.RooRealVar(\"nJpsi\",\"nJpsi\",1.5,0.5,5.)\n",
    "\n",
    "# Criando a pdf\n",
    "CBJpsi = ROOT.RooCBShape(\"CBJpsi\",\"Crystal Ball de Jpsi\",mass,meanJpsi,sigmaJpsi,alphaJpsi,nJpsi)"
   ]
  },
  {
   "cell_type": "code",
   "execution_count": 3,
   "id": "08b3d797",
   "metadata": {},
   "outputs": [],
   "source": [
    "# Inicializando as variáveis e parâmetros para a ressonância psi 2s\n",
    "meanpsi2S = ROOT.RooRealVar(\"meanpsi2S\",\"meanpsi2S\",3.7,3.65,3.75)\n",
    "\n",
    "# Criando a pdf gaussiana (similar a crystall ball)\n",
    "gausspsi2S = ROOT.RooGaussian(\"gausspsi2S\",\"gausspsi2S\",mass,meanpsi2S,sigmaJpsi)"
   ]
  },
  {
   "cell_type": "code",
   "execution_count": 4,
   "id": "1be1c0f5",
   "metadata": {},
   "outputs": [],
   "source": [
    "#Inicializando as variáveis do background\n",
    "a1 = ROOT.RooRealVar(\"a1\",\"a1\",-0.7,-2.,2.)\n",
    "a2 = ROOT.RooRealVar(\"a2\",\"a2\",0.3,-2.,2.)\n",
    "a3 = ROOT.RooRealVar(\"a3\",\"a3\",-0.03,-2.,2.)\n",
    "\n",
    "# Criando a PDF\n",
    "backgroundPDF = ROOT.RooChebychev(\"backgroundPDF\",\"backgroundPDF\",mass,ROOT.RooArgList(a1,a2,a3))"
   ]
  },
  {
   "cell_type": "code",
   "execution_count": 5,
   "id": "5e14c438",
   "metadata": {},
   "outputs": [],
   "source": [
    "# Inicializando os pesos das PDFs \n",
    "NJpsi = ROOT.RooRealVar(\"NJpsi\",\"NJpsi\",1500.,0.1,10000.)\n",
    "Nbkg = ROOT.RooRealVar(\"Nbkg\",\"Nbkg\",5000.,0.1,50000.)\n",
    "Npsi = ROOT.RooRealVar(\"Npsi\",\"Npsi\",100.,0.1,5000.)"
   ]
  },
  {
   "cell_type": "code",
   "execution_count": 6,
   "id": "3d23daf6",
   "metadata": {},
   "outputs": [],
   "source": [
    "#Compondo a PDF total usando as pdfs anteriores e seus pesos\n",
    "totPDF = ROOT.RooAddPdf(\"totPDF\",\"totPDF\",ROOT.RooArgList(CBJpsi,gausspsi2S,backgroundPDF),ROOT.RooArgList(NJpsi,Npsi,Nbkg))"
   ]
  },
  {
   "cell_type": "code",
   "execution_count": 7,
   "id": "b313a4d5",
   "metadata": {},
   "outputs": [
    {
     "data": {
      "text/plain": [
       "<cppyy.gbl.RooFitResult object at 0x(nil)>"
      ]
     },
     "execution_count": 7,
     "metadata": {},
     "output_type": "execute_result"
    },
    {
     "name": "stdout",
     "output_type": "stream",
     "text": [
      "[#1] INFO:Minization -- RooMinimizer::optimizeConst: activating const optimization\n",
      "[#1] INFO:Minization --  The following expressions will be evaluated in cache-and-track mode: (CBJpsi,gausspsi2S,backgroundPDF)\n",
      " **********\n",
      " **    1 **SET PRINT           1\n",
      " **********\n",
      " **********\n",
      " **    2 **SET NOGRAD\n",
      " **********\n",
      " PARAMETER DEFINITIONS:\n",
      "    NO.   NAME         VALUE      STEP SIZE      LIMITS\n",
      "     1 NJpsi        1.50000e+03  7.49950e+02    1.00000e-01  1.00000e+04\n",
      "     2 Nbkg         5.00000e+03  2.49995e+03    1.00000e-01  5.00000e+04\n",
      "     3 Npsi         1.00000e+02  4.99500e+01    1.00000e-01  5.00000e+03\n",
      "     4 a1          -7.00000e-01  4.00000e-01   -2.00000e+00  2.00000e+00\n",
      "     5 a2           3.00000e-01  4.00000e-01   -2.00000e+00  2.00000e+00\n",
      "     6 a3          -3.00000e-02  4.00000e-01   -2.00000e+00  2.00000e+00\n",
      "     7 alphaJpsi    1.50000e+00  1.00000e+00   -5.00000e+00  5.00000e+00\n",
      "     8 meanJpsi     3.10000e+00  4.00000e-02    2.80000e+00  3.20000e+00\n",
      "     9 meanpsi2S    3.70000e+00  1.00000e-02    3.65000e+00  3.75000e+00\n",
      "    10 nJpsi        1.50000e+00  4.50000e-01    5.00000e-01  5.00000e+00\n",
      "    11 sigmaJpsi    3.00000e-01  9.99900e-02    1.00000e-04  1.00000e+00\n",
      " **********\n",
      " **    3 **SET ERR         0.5\n",
      " **********\n",
      " **********\n",
      " **    4 **SET PRINT           1\n",
      " **********\n",
      " **********\n",
      " **    5 **SET STR           1\n",
      " **********\n",
      " NOW USING STRATEGY  1: TRY TO BALANCE SPEED AGAINST RELIABILITY\n",
      " **********\n",
      " **    6 **MIGRAD        5500           1\n",
      " **********\n",
      " FIRST CALL TO USER FUNCTION AT NEW START POINT, WITH IFLAG=4.\n",
      " START MIGRAD MINIMIZATION.  STRATEGY  1.  CONVERGENCE WHEN EDM .LT. 1.00e-03\n",
      " FCN=2629.14 FROM MIGRAD    STATUS=INITIATE      138 CALLS         139 TOTAL\n",
      "                     EDM= unknown      STRATEGY= 1      NO ERROR MATRIX       \n",
      "  EXT PARAMETER               CURRENT GUESS       STEP         FIRST   \n",
      "  NO.   NAME      VALUE            ERROR          SIZE      DERIVATIVE \n",
      "   1  NJpsi        1.50000e+03   7.49950e+02   0.00000e+00   3.23515e+03\n",
      "   2  Nbkg         5.00000e+03   2.49995e+03   0.00000e+00   1.39401e+04\n",
      "   3  Npsi         1.00000e+02   4.99500e+01   0.00000e+00   6.58930e+02\n",
      "   4  a1          -7.00000e-01   4.00000e-01   0.00000e+00   1.94225e+01\n",
      "   5  a2           3.00000e-01   4.00000e-01   0.00000e+00  -1.27235e+00\n",
      "   6  a3          -3.00000e-02   4.00000e-01   0.00000e+00  -4.43622e+01\n",
      "   7  alphaJpsi    1.50000e+00   1.00000e+00   0.00000e+00  -4.43529e+00\n",
      "   8  meanJpsi     3.10000e+00   4.00000e-02   0.00000e+00   8.74526e+01\n",
      "   9  meanpsi2S    3.69582e+00   1.00000e-02  -1.48342e+00   1.25268e-01\n",
      "  10  nJpsi        1.50000e+00   4.50000e-01   0.00000e+00  -6.18428e+00\n",
      "  11  sigmaJpsi    2.60353e-02   9.99900e-02   0.00000e+00  -9.38671e+01\n",
      "                               ERR DEF= 0.5\n",
      " MIGRAD MINIMIZATION HAS CONVERGED.\n",
      " FCN=-2191.47 FROM MIGRAD    STATUS=CONVERGED     419 CALLS         420 TOTAL\n",
      "                     EDM=5.15222e-05    STRATEGY= 1  ERROR MATRIX UNCERTAINTY   2.4 per cent\n",
      "  EXT PARAMETER                                   STEP         FIRST   \n",
      "  NO.   NAME      VALUE            ERROR          SIZE      DERIVATIVE \n",
      "   1  NJpsi        1.55596e+02   1.76251e+01   6.08893e-05   2.26784e-01\n",
      "   2  Nbkg         3.39870e+02   2.27199e+01   6.62511e-05   7.25961e-01\n",
      "   3  Npsi         4.61864e+00   3.64671e+00  -2.46392e-04  -1.31566e-01\n",
      "   4  a1          -6.92966e-01   9.85877e-02   1.41517e-03  -8.06709e-02\n",
      "   5  a2           2.88419e-01   8.61430e-02  -6.66661e-04   1.12028e-02\n",
      "   6  a3           1.57750e-02   7.92900e-02   4.91296e-04  -1.47578e-01\n",
      "   7  alphaJpsi    1.65097e+00   4.24275e-01   1.33042e-04   4.40643e-02\n",
      "   8  meanJpsi     3.09350e+00   3.36131e-03  -2.88902e-05   3.05123e-02\n",
      "   9  meanpsi2S    3.69542e+00   2.80208e-02  -5.68961e-04   4.20988e-03\n",
      "  10  nJpsi        1.36558e+00   1.07555e+00  -2.43954e-03   3.00142e-04\n",
      "  11  sigmaJpsi    3.27140e-02   2.98999e-03  -3.26804e-04  -2.60117e-01\n",
      "                               ERR DEF= 0.5\n",
      " EXTERNAL ERROR MATRIX.    NDIM=  25    NPAR= 11    ERR DEF=0.5\n",
      "  3.107e+02 \n",
      " -1.647e+02  5.162e+02 \n",
      "  2.237e+00 -1.010e+01  1.330e+01 \n",
      "  4.002e-01 -2.617e-01 -7.746e-02  9.729e-03 \n",
      " -1.865e-01  6.250e-02  6.316e-02 -2.346e-03  7.425e-03 \n",
      " -1.683e-01  3.358e-01 -9.014e-02  3.698e-03 -2.396e-03  6.290e-03 \n",
      "  1.395e+00 -1.498e+00 -1.039e-02  8.504e-03 -6.625e-03  2.172e-03  1.805e-01 \n",
      "  1.508e-03 -3.127e-04  3.567e-04 -3.037e-06  4.615e-06 -2.275e-06 -1.015e-04  1.130e-05 \n",
      " -1.652e-03 -2.526e-02  1.282e-03 -7.343e-06  1.013e-05 -1.131e-04 -1.634e-04  1.525e-06  8.858e-04 \n",
      " -1.060e+01  1.098e+01 -8.383e-02 -3.810e-02  2.538e-02  4.159e-04 -3.900e-01  8.018e-05 -1.103e-04  1.335e+00 \n",
      "  7.356e-03 -5.137e-03 -5.384e-04 -2.866e-05  1.687e-05 -4.963e-05  5.329e-05 -4.183e-07  1.351e-06  5.271e-06  8.941e-06 \n",
      " PARAMETER  CORRELATION COEFFICIENTS  \n",
      "       NO.  GLOBAL      1      2      3      4      5      6      7      8      9     10     11\n",
      "        1  0.67091   1.000 -0.411  0.035  0.230 -0.123 -0.120  0.186  0.025 -0.003 -0.520  0.140\n",
      "        2  0.54880  -0.411  1.000 -0.122 -0.117  0.032  0.186 -0.155 -0.004 -0.037  0.418 -0.076\n",
      "        3  0.36902   0.035 -0.122  1.000 -0.215  0.201 -0.312 -0.007  0.029  0.012 -0.020 -0.049\n",
      "        4  0.61116   0.230 -0.117 -0.215  1.000 -0.276  0.473  0.203 -0.009 -0.003 -0.334 -0.097\n",
      "        5  0.45382  -0.123  0.032  0.201 -0.276  1.000 -0.351 -0.181  0.016  0.004  0.255  0.065\n",
      "        6  0.64336  -0.120  0.186 -0.312  0.473 -0.351  1.000  0.064 -0.009 -0.048  0.005 -0.209\n",
      "        7  0.85827   0.186 -0.155 -0.007  0.203 -0.181  0.064  1.000 -0.071 -0.013 -0.794  0.042\n",
      "        8  0.10632   0.025 -0.004  0.029 -0.009  0.016 -0.009 -0.071  1.000  0.015  0.021 -0.042\n",
      "        9  0.07081  -0.003 -0.037  0.012 -0.003  0.004 -0.048 -0.013  0.015  1.000 -0.003  0.015\n",
      "       10  0.90849  -0.520  0.418 -0.020 -0.334  0.255  0.005 -0.794  0.021 -0.003  1.000  0.002\n",
      "       11  0.33183   0.140 -0.076 -0.049 -0.097  0.065 -0.209  0.042 -0.042  0.015  0.002  1.000\n",
      " **********\n",
      " **    7 **SET ERR         0.5\n",
      " **********\n",
      " **********\n",
      " **    8 **SET PRINT           1\n",
      " **********\n",
      " **********\n",
      " **    9 **HESSE        5500\n",
      " **********\n",
      " COVARIANCE MATRIX CALCULATED SUCCESSFULLY\n",
      " FCN=-2191.47 FROM HESSE     STATUS=OK            108 CALLS         528 TOTAL\n",
      "                     EDM=0.000137829    STRATEGY= 1      ERROR MATRIX ACCURATE \n",
      "  EXT PARAMETER                                INTERNAL      INTERNAL  \n",
      "  NO.   NAME      VALUE            ERROR       STEP SIZE       VALUE   \n",
      "   1  NJpsi        1.55596e+02   1.87984e+01   3.59275e-04  -1.32075e+00\n",
      "   2  Nbkg         3.39870e+02   2.36866e+01   1.52114e-04  -1.40574e+00\n",
      "   3  Npsi         4.61864e+00   3.96424e+00   8.16203e-04  -1.51066e+00\n",
      "   4  a1          -6.92966e-01   1.06237e-01   1.38016e-03  -3.53819e-01\n",
      "   5  a2           2.88419e-01   8.50158e-02   1.22979e-03   1.44714e-01\n",
      "   6  a3           1.57750e-02   8.32410e-02   9.95286e-04   7.88757e-03\n",
      "   7  alphaJpsi    1.65097e+00   3.59467e-01   1.44976e-03   3.36509e-01\n",
      "   8  meanJpsi     3.09350e+00   3.32392e-03   6.02984e-04   4.86455e-01\n",
      "   9  meanpsi2S    3.69542e+00   2.59109e-02   1.75887e-02  -3.04990e+00\n",
      "  10  nJpsi        1.36558e+00   9.33098e-01   8.66216e-03  -6.62765e-01\n",
      "  11  sigmaJpsi    3.27140e-02   3.03141e-03   5.27262e-04  -1.20760e+00\n",
      "                               ERR DEF= 0.5\n",
      " EXTERNAL ERROR MATRIX.    NDIM=  25    NPAR= 11    ERR DEF=0.5\n",
      "  3.534e+02 \n",
      " -2.039e+02  5.611e+02 \n",
      "  6.379e+00 -1.746e+01  1.572e+01 \n",
      "  4.223e-01 -4.085e-01 -1.313e-02  1.130e-02 \n",
      " -1.616e-01  1.000e-01  6.115e-02 -2.578e-03  7.232e-03 \n",
      " -1.750e-01  2.290e-01 -5.396e-02  4.926e-03 -2.626e-03  6.933e-03 \n",
      "  4.015e-01 -3.646e-01 -3.511e-02  4.527e-03 -4.353e-03  3.921e-03  1.295e-01 \n",
      "  2.852e-03 -2.973e-03  1.252e-04  3.756e-06  1.106e-06 -4.743e-06 -2.520e-05  1.105e-05 \n",
      "  3.884e-03 -6.014e-03  2.154e-03  1.558e-08  3.373e-06 -2.555e-05 -2.119e-05 -9.874e-09  7.426e-04 \n",
      " -9.312e+00  9.446e+00 -1.497e-01 -3.119e-02  2.033e-02 -4.756e-03 -2.466e-01 -1.217e-04 -4.197e-05  9.655e-01 \n",
      "  6.673e-03 -7.207e-03  5.352e-04 -7.181e-06  1.977e-05 -3.006e-05 -9.193e-05 -2.530e-07  1.931e-06  2.780e-04  9.190e-06 \n",
      " PARAMETER  CORRELATION COEFFICIENTS  \n",
      "       NO.  GLOBAL      1      2      3      4      5      6      7      8      9     10     11\n",
      "        1  0.68179   1.000 -0.458  0.086  0.211 -0.101 -0.112  0.059  0.046  0.008 -0.504  0.117\n",
      "        2  0.57790  -0.458  1.000 -0.186 -0.162  0.050  0.116 -0.043 -0.038 -0.009  0.406 -0.100\n",
      "        3  0.28023   0.086 -0.186  1.000 -0.031  0.181 -0.163 -0.025  0.009  0.020 -0.038  0.045\n",
      "        4  0.65648   0.211 -0.162 -0.031  1.000 -0.285  0.557  0.118  0.011  0.000 -0.299 -0.022\n",
      "        5  0.46198  -0.101  0.050  0.181 -0.285  1.000 -0.371 -0.142  0.004  0.001  0.243  0.077\n",
      "        6  0.67182  -0.112  0.116 -0.163  0.557 -0.371  1.000  0.131 -0.017 -0.011 -0.058 -0.119\n",
      "        7  0.80321   0.059 -0.043 -0.025  0.118 -0.142  0.131  1.000 -0.021 -0.002 -0.697 -0.084\n",
      "        8  0.08145   0.046 -0.038  0.009  0.011  0.004 -0.017 -0.021  1.000 -0.000 -0.037 -0.025\n",
      "        9  0.03153   0.008 -0.009  0.020  0.000  0.001 -0.011 -0.002 -0.000  1.000 -0.002  0.023\n",
      "       10  0.87605  -0.504  0.406 -0.038 -0.299  0.243 -0.058 -0.697 -0.037 -0.002  1.000  0.093\n",
      "       11  0.27247   0.117 -0.100  0.045 -0.022  0.077 -0.119 -0.084 -0.025  0.023  0.093  1.000\n",
      "[#1] INFO:Minization -- RooMinimizer::optimizeConst: deactivating const optimization\n"
     ]
    }
   ],
   "source": [
    "# Fitando\n",
    "totPDF.fitTo(dataset, ROOT.RooFit.Extended(1))"
   ]
  },
  {
   "cell_type": "code",
   "execution_count": 8,
   "id": "72f83a8b",
   "metadata": {},
   "outputs": [
    {
     "name": "stdout",
     "output_type": "stream",
     "text": [
      "##############\n",
      "##############\n",
      "RooRealVar::meanpsi2S = 3.69542 +/- 0.0259109  L(3.65 - 3.75) \n",
      "RooRealVar::NJpsi = 155.596 +/- 18.7984  L(0.1 - 10000) \n",
      "RooRealVar::Npsi = 4.61864 +/- 3.96424  L(0.1 - 5000) \n"
     ]
    }
   ],
   "source": [
    "#Printando os valores ajustados\n",
    "print (\"##############\")\n",
    "meanpsi2S.Print()\n",
    "NJpsi.Print()\n",
    "Npsi.Print()\n",
    "print (\"##############\")"
   ]
  },
  {
   "cell_type": "code",
   "execution_count": 9,
   "id": "bf8edf84",
   "metadata": {},
   "outputs": [
    {
     "name": "stderr",
     "output_type": "stream",
     "text": [
      "Info in <TCanvas::Print>: png file plot_ex2.png has been created\n"
     ]
    },
    {
     "data": {
      "image/png": "[encoded data removed]",
      "text/plain": [
       "<IPython.core.display.Image object>"
      ]
     },
     "metadata": {},
     "output_type": "display_data"
    }
   ],
   "source": [
    "#Plotando\n",
    "xframe = mass.frame()\n",
    "dataset.plotOn(xframe)\n",
    "totPDF.plotOn(xframe)\n",
    "c1 = ROOT.TCanvas()\n",
    "xframe.Draw()\n",
    "c1.Draw()\n",
    "\n",
    "# Salvando o plot\n",
    "c1.SaveAs(\"plot_ex2.png\")"
   ]
  },
  {
   "cell_type": "code",
   "execution_count": 10,
   "id": "98dcc84c",
   "metadata": {},
   "outputs": [
    {
     "name": "stdout",
     "output_type": "stream",
     "text": [
      "[#1] INFO:ObjectHandling -- RooWorkspace::import(ws) importing RooAddPdf::totPDF\n",
      "[#1] INFO:ObjectHandling -- RooWorkspace::import(ws) importing RooCBShape::CBJpsi\n",
      "[#1] INFO:ObjectHandling -- RooWorkspace::import(ws) importing RooRealVar::mass\n",
      "[#1] INFO:ObjectHandling -- RooWorkspace::import(ws) importing RooRealVar::meanJpsi\n",
      "[#1] INFO:ObjectHandling -- RooWorkspace::import(ws) importing RooRealVar::sigmaJpsi\n",
      "[#1] INFO:ObjectHandling -- RooWorkspace::import(ws) importing RooRealVar::alphaJpsi\n",
      "[#1] INFO:ObjectHandling -- RooWorkspace::import(ws) importing RooRealVar::nJpsi\n",
      "[#1] INFO:ObjectHandling -- RooWorkspace::import(ws) importing RooRealVar::NJpsi\n",
      "[#1] INFO:ObjectHandling -- RooWorkspace::import(ws) importing RooGaussian::gausspsi2S\n",
      "[#1] INFO:ObjectHandling -- RooWorkspace::import(ws) importing RooRealVar::meanpsi2S\n",
      "[#1] INFO:ObjectHandling -- RooWorkspace::import(ws) importing RooRealVar::Npsi\n",
      "[#1] INFO:ObjectHandling -- RooWorkspace::import(ws) importing RooChebychev::backgroundPDF\n",
      "[#1] INFO:ObjectHandling -- RooWorkspace::import(ws) importing RooRealVar::a1\n",
      "[#1] INFO:ObjectHandling -- RooWorkspace::import(ws) importing RooRealVar::a2\n",
      "[#1] INFO:ObjectHandling -- RooWorkspace::import(ws) importing RooRealVar::a3\n",
      "[#1] INFO:ObjectHandling -- RooWorkspace::import(ws) importing RooRealVar::Nbkg\n",
      "[#1] INFO:ObjectHandling -- RooWorkspace::import(ws) importing dataset data\n"
     ]
    }
   ],
   "source": [
    "# Salvando o ws\n",
    "fOutput = ROOT.TFile(\"ws_ex2.root\",\"RECREATE\")\n",
    "fInput.cd()\n",
    "ws = ROOT.RooWorkspace(\"ws\") \n",
    "getattr(ws,'import')(totPDF)\n",
    "getattr(ws,'import')(dataset)\n",
    "ws.writeToFile(\"ws_ex2.root\")\n",
    "del ws\n",
    "\n",
    "fOutput.Write()\n",
    "fOutput.Close()"
   ]
  }
 ],
 "metadata": {
  "kernelspec": {
   "display_name": "Python 3 (ipykernel)",
   "language": "python",
   "name": "python3"
  },
  "language_info": {
   "codemirror_mode": {
    "name": "ipython",
    "version": 3
   },
   "file_extension": ".py",
   "mimetype": "text/x-python",
   "name": "python",
   "nbconvert_exporter": "python",
   "pygments_lexer": "ipython3",
   "version": "3.8.10"
  }
 },
 "nbformat": 4,
 "nbformat_minor": 5
}
