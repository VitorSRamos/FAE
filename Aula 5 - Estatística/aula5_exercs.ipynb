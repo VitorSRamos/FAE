{
  "nbformat": 4,
  "nbformat_minor": 0,
  "metadata": {
    "colab": {
      "name": "aula5_exercs.ipynb",
      "provenance": [],
      "collapsed_sections": [
        "xpttZrkqj56b",
        "n219ZNSEmrZf",
        "j3_kAjpXq4GA",
        "I1bSl98Ou_V9",
        "Hr6n3AQD6zt1",
        "ObBaccSGAxv7",
        "fFROrnq0Ift0",
        "X6kKoqTtIcdb",
        "_1mTVK8CIuBS",
        "b5yLhokqJ_yk",
        "uDhP6rsoMFkJ",
        "OWx-Xn0oPQjz",
        "tXf80w2AcEH9"
      ],
      "authorship_tag": "ABX9TyNKmoHbvJEBFHENFrH6LD20",
      "include_colab_link": true
    },
    "kernelspec": {
      "name": "python3",
      "display_name": "Python 3"
    },
    "language_info": {
      "name": "python"
    }
  },
  "cells": [
    {
      "cell_type": "markdown",
      "metadata": {
        "id": "view-in-github",
        "colab_type": "text"
      },
      "source": [
        "<a href=\"https://colab.research.google.com/github/VitorSRamos/FAE/blob/main/Aula%205%20-%20Estat%C3%ADstica/aula5_exercs.ipynb\" target=\"_parent\"><img src=\"https://colab.research.google.com/assets/colab-badge.svg\" alt=\"Open In Colab\"/></a>"
      ]
    },
    {
      "cell_type": "code",
      "metadata": {
        "id": "sJX7ip7FAtDW"
      },
      "source": [
        "from math import factorial, exp\n",
        "from numpy import mean, std, polyfit, log, sqrt, diag\n",
        "import matplotlib.pyplot as plt\n",
        "\n",
        "def binomial(n, k, p): # Binomial de k acertos com n tentativas, probabilidade p\n",
        "    return ( factorial(n) / (factorial(k) * factorial(n-k)) ) * (p**k) * ( (1-p)**(n-k) )\n",
        "\n",
        "#binomial(720, 2, 1/365)\n",
        "\n",
        "def poisson(k, l): # Poisson de k ocorrências com l esperadas em um intervalo (l no lugar de lambda)\n",
        "    return ( exp(-l) * l**k ) / factorial(k)"
      ],
      "execution_count": null,
      "outputs": []
    },
    {
      "cell_type": "markdown",
      "metadata": {
        "id": "oR7rtyjrj4JP"
      },
      "source": [
        "# Problema 3"
      ]
    },
    {
      "cell_type": "markdown",
      "metadata": {
        "id": "xpttZrkqj56b"
      },
      "source": [
        "## 3.7.2\n"
      ]
    },
    {
      "cell_type": "markdown",
      "metadata": {
        "id": "T-klSLKSk1jw"
      },
      "source": [
        "Erro padrão:\n",
        "\\begin{equation}\n",
        "    \\sigma_{\\bar x} = \\frac{\\sigma_x}{\\sqrt N}\n",
        "\\end{equation}"
      ]
    },
    {
      "cell_type": "code",
      "metadata": {
        "colab": {
          "base_uri": "https://localhost:8080/"
        },
        "id": "wXdxFp4Zj7vR",
        "outputId": "f45aac92-eafb-4ed7-ad70-e63fd44e9391"
      },
      "source": [
        "data_g = [9.9, 9.68, 9.57, 9.72, 9.8]\n",
        "erro_pad = std(data_g) / sqrt(len(data_g))\n",
        "print('Estimativa Padrão: {} +- {}'.format(mean(data_g), erro_pad))"
      ],
      "execution_count": null,
      "outputs": [
        {
          "output_type": "stream",
          "name": "stdout",
          "text": [
            "Estimativa Padrão: 9.734 +- 0.04976745924798658\n"
          ]
        },
        {
          "output_type": "execute_result",
          "data": {
            "text/plain": [
              "5"
            ]
          },
          "metadata": {},
          "execution_count": 23
        }
      ]
    },
    {
      "cell_type": "markdown",
      "metadata": {
        "id": "n219ZNSEmrZf"
      },
      "source": [
        "## 3.7.3\n"
      ]
    },
    {
      "cell_type": "code",
      "metadata": {
        "colab": {
          "base_uri": "https://localhost:8080/"
        },
        "id": "V3TUvRP-mwf4",
        "outputId": "df1d5e77-a82c-4a01-e463-5450c9d2bc20"
      },
      "source": [
        "data_fem = [1.62, 1.71, 1.80, 1.76, 1.68]\n",
        "erro_pad = std(data_fem) / sqrt(len(data_fem))\n",
        "print('Estimativa Padrão: {} +- {}'.format(mean(data_fem), erro_pad))"
      ],
      "execution_count": null,
      "outputs": [
        {
          "output_type": "stream",
          "name": "stdout",
          "text": [
            "Estimativa Padrão: 1.714 +- 0.027942798714516763\n"
          ]
        }
      ]
    },
    {
      "cell_type": "markdown",
      "metadata": {
        "id": "j3_kAjpXq4GA"
      },
      "source": [
        "## 3.7.5"
      ]
    },
    {
      "cell_type": "markdown",
      "metadata": {
        "id": "5d-xovJmrnmw"
      },
      "source": [
        "Compatível se:\n",
        "\\begin{equation}\n",
        "    |x_{\\text{ref}} - \\bar x| < 2 \\sigma_{\\bar x} \\Rightarrow 2 \\sigma_{\\bar x} - |x_{\\text{ref}} - \\bar x| > 0\n",
        "\\end{equation}"
      ]
    },
    {
      "cell_type": "code",
      "metadata": {
        "colab": {
          "base_uri": "https://localhost:8080/"
        },
        "id": "O4hzJJ2Tq7LG",
        "outputId": "83a79d8e-70b9-40a8-c539-8458dbb46138"
      },
      "source": [
        "data_e = [1.72, 1.75, 1.62] # todos em unidades de 10^-19 C\n",
        "sigma_e = [0.04, 0.07, 0.03]\n",
        "e_ref = 1.602117733\n",
        "\n",
        "print(2*sigma_e[0] - abs(e_ref - data_e[0]))\n",
        "print(2*sigma_e[1] - abs(e_ref - data_e[1]))\n",
        "print(2*sigma_e[2] - abs(e_ref - data_e[2]))"
      ],
      "execution_count": null,
      "outputs": [
        {
          "output_type": "stream",
          "name": "stdout",
          "text": [
            "-0.03788226699999993\n",
            "-0.007882266999999943\n",
            "0.042117732999999935\n"
          ]
        }
      ]
    },
    {
      "cell_type": "markdown",
      "metadata": {
        "id": "I1bSl98Ou_V9"
      },
      "source": [
        "## 3.7.7"
      ]
    },
    {
      "cell_type": "code",
      "metadata": {
        "colab": {
          "base_uri": "https://localhost:8080/"
        },
        "id": "Pc6AIq2Qu0ia",
        "outputId": "95752504-ecdd-410b-a6b4-0af583ca9632"
      },
      "source": [
        "data_rho = [1.9, 1.9, 1.8, 2.0, 1.9] # todas em g/cm^3\n",
        "rho_ref = 1.8524\n",
        "\n",
        "erro_pad = std(data_rho) / sqrt(len(data_rho))\n",
        "print('Estimativa Padrão: {} +- {}'.format(mean(data_rho), erro_pad))\n",
        "\n",
        "print(2*erro_pad - abs(rho_ref - mean(data_rho))) # Compatíveis porque é positivo."
      ],
      "execution_count": null,
      "outputs": [
        {
          "output_type": "stream",
          "name": "stdout",
          "text": [
            "Estimativa Padrão: 1.9 +- 0.02828427124746189\n",
            "0.008968542494923917\n"
          ]
        }
      ]
    },
    {
      "cell_type": "markdown",
      "metadata": {
        "id": "zWq4en7P2xbQ"
      },
      "source": [
        "## 3.7.9"
      ]
    },
    {
      "cell_type": "markdown",
      "metadata": {
        "id": "lnVoDgCe456g"
      },
      "source": [
        "\\begin{equation} \n",
        "    \\bar x = \\frac{\\sum_{i=1}^N \\frac{x_i}{\\sigma_i^2}}{\\sum_{i=1}^N \\frac{1}{\\sigma_i^2}}\n",
        "\\end{equation}\n",
        "\\begin{equation} \n",
        "    \\sigma_{\\bar x} = \\frac{1}{\\sqrt{\\sum_{i=1}^N \\frac{1}{\\sigma_i^2}}}\n",
        "\\end{equation}\n",
        "\n",
        "Note que existem dois somatórios que compõe as duas grandezas: $\\sum_{i=1}^N \\frac{x_i}{\\sigma_i^2}$ e $\\sum_{i=1}^N \\frac{1}{\\sigma_i^2}$"
      ]
    },
    {
      "cell_type": "code",
      "metadata": {
        "colab": {
          "base_uri": "https://localhost:8080/"
        },
        "id": "hgJt0zci2zRB",
        "outputId": "9fd0405a-cd8d-4d73-994c-fc0d74b0b2d6"
      },
      "source": [
        "data_mtop = [179, 176.1] # GeV/c^2\n",
        "sigma_mtop = [5.1, 6.6]\n",
        "\n",
        "# Inicializando os somatórios\n",
        "sum_x_sigma = 0\n",
        "sum_1_sigma = 0\n",
        "\n",
        "# Loop para efetuar os somatórios\n",
        "for index in range(len(data_mtop)):\n",
        "    sum_x_sigma += data_mtop[index] / ((sigma_mtop[index])**2)\n",
        "    sum_1_sigma += 1 / ((sigma_mtop[index])**2)\n",
        "    #print(data_mtop[index], sigma_mtop[index])\n",
        "    #print(sum_1_sigma)\n",
        "# Combinando os somatórios para construir x_med e sigma_med\n",
        "\n",
        "x_med = sum_x_sigma / sum_1_sigma\n",
        "\n",
        "sigma_med = 1 / sqrt( sum_1_sigma )\n",
        "\n",
        "# Printando resultados\n",
        "print('A combinação das data_mtop resulta em: {} +- {} GeV/c^2'.format(x_med, sigma_med))"
      ],
      "execution_count": null,
      "outputs": [
        {
          "output_type": "stream",
          "name": "stdout",
          "text": [
            "A combinação das data_mtop resulta em: 177.9157826649418 +- 4.035553507100052 GeV/c^2\n"
          ]
        }
      ]
    },
    {
      "cell_type": "markdown",
      "metadata": {
        "id": "Hr6n3AQD6zt1"
      },
      "source": [
        "## 3.7.10"
      ]
    },
    {
      "cell_type": "code",
      "metadata": {
        "colab": {
          "base_uri": "https://localhost:8080/"
        },
        "id": "xU-O9bgb62qM",
        "outputId": "1a394040-8308-41b3-b423-094f0216775c"
      },
      "source": [
        "g_aluno = 9.5\n",
        "sigma_g = 0.1\n",
        "g_ref = 9.78791660\n",
        "\n",
        "print(2*sigma_g - abs(g_ref - g_aluno)) # Compatíveis se positivo."
      ],
      "execution_count": null,
      "outputs": [
        {
          "output_type": "stream",
          "name": "stdout",
          "text": [
            "-0.08791660000000084\n"
          ]
        }
      ]
    },
    {
      "cell_type": "markdown",
      "metadata": {
        "id": "0qBT7kQu8Kwx"
      },
      "source": [
        "## 3.7.11"
      ]
    },
    {
      "cell_type": "markdown",
      "metadata": {
        "id": "Svpox2De9JkR"
      },
      "source": [
        "Seguindo a solução do exercício 3.7.9:"
      ]
    },
    {
      "cell_type": "code",
      "metadata": {
        "colab": {
          "base_uri": "https://localhost:8080/"
        },
        "id": "2jQrQWdx839m",
        "outputId": "c6c953af-5a0c-4565-eeaa-388fc0a45685"
      },
      "source": [
        "data_fem = [1.022, 1.018] # V\n",
        "sigma_fem = [0.01, 0.004] \n",
        "\n",
        "# Inicializando os somatórios\n",
        "sum_x_sigma = 0\n",
        "sum_1_sigma = 0\n",
        "\n",
        "# Loop para efetuar os somatórios\n",
        "for index in range(len(data_fem)):\n",
        "    sum_x_sigma += data_fem[index] / ((sigma_fem[index])**2)\n",
        "    sum_1_sigma += 1 / ((sigma_fem[index])**2)\n",
        "    #print(data_fem[index], sigma_fem[index])\n",
        "    #print(sum_1_sigma)\n",
        "# Combinando os somatórios para construir x_med e sigma_med\n",
        "\n",
        "x_med = sum_x_sigma / sum_1_sigma\n",
        "\n",
        "sigma_med = 1 / sqrt( sum_1_sigma )\n",
        "\n",
        "# Printando resultados\n",
        "print('A combinação das f.e.m. resulta em: {} +- {} V'.format(x_med, sigma_med))"
      ],
      "execution_count": null,
      "outputs": [
        {
          "output_type": "stream",
          "name": "stdout",
          "text": [
            "A combinação das f.e.m. resulta em: 1.018551724137931 +- 0.003713906763541037 V\n"
          ]
        }
      ]
    },
    {
      "cell_type": "markdown",
      "metadata": {
        "id": "g78ci11y_nLD"
      },
      "source": [
        "# Problema 4"
      ]
    },
    {
      "cell_type": "markdown",
      "metadata": {
        "id": "EY7aNe7I_pgW"
      },
      "source": [
        "As partículas escolhidas foram:\n",
        "\\begin{gather}\n",
        "    \\text{Elétron: }0.5109989461 \\pm 0.0000000031  \\text{ MeV}\\\\\n",
        "    \\text{Neutron: }939.5654133 \\pm 0.0000058  \\text{ MeV}\\\\\n",
        "    \\text{Proton:  }938.2720813 \\pm 0.0000058  \\text{ MeV}\\\\\n",
        "    \\text{Tau: }1776.86 \\pm 0.12  \\text{ MeV}\\\\\n",
        "    \\text{Muon: }105.6583745 \\pm 0.0000024 \\text{ MeV} \\\\\n",
        "\\end{gather}\n",
        "\n",
        "Seguindo a solução do exercício 3.7.9:"
      ]
    },
    {
      "cell_type": "code",
      "metadata": {
        "colab": {
          "base_uri": "https://localhost:8080/"
        },
        "id": "YsKMb3Ig_vXW",
        "outputId": "095895ff-2a24-4ac4-b5f2-dbc7bbd7c709"
      },
      "source": [
        "massas = [0.5109989461, 939.5654133, 938.2720813, 1776.86, 105.6583745]\n",
        "erros = [0.0000000031, 0.0000058, 0.0000058, 0.12, 0.0000024]\n",
        "\n",
        "# Inicializando os somatórios\n",
        "sum_x_sigma = 0\n",
        "sum_1_sigma = 0\n",
        "\n",
        "# Loop para efetuar os somatórios\n",
        "for index in range(len(massas)):\n",
        "    sum_x_sigma += massas[index] / ((erros[index])**2)\n",
        "    sum_1_sigma += 1 / ((erros[index])**2)\n",
        "    #print(massas[index], erros[index])\n",
        "    #print(sum_1_sigma)\n",
        "# Combinando os somatórios para construir x_med e sigma_med\n",
        "\n",
        "x_med = sum_x_sigma / sum_1_sigma\n",
        "\n",
        "sigma_med = 1 / sqrt( sum_1_sigma )\n",
        "\n",
        "# Printando resultados\n",
        "print('A combinação das massas resulta em: {} +- {} MeV'.format(x_med, sigma_med))"
      ],
      "execution_count": null,
      "outputs": [
        {
          "output_type": "stream",
          "name": "stdout",
          "text": [
            "A combinação das massas resulta em: 0.5117105259782423 +- 3.099996528398886e-09 MeV\n"
          ]
        }
      ]
    },
    {
      "cell_type": "code",
      "metadata": {
        "colab": {
          "base_uri": "https://localhost:8080/"
        },
        "id": "DHYGUqyfE-tS",
        "outputId": "31fb7d3c-cb12-4d41-f74d-5d7c85b45235"
      },
      "source": [
        "1 / ( 1/erros[0]**2 + 1/erros[1]**2 + 1/erros[2]**2 + 1/erros[3]**2 + 1/erros[4]**2 )**0.5"
      ],
      "execution_count": null,
      "outputs": [
        {
          "output_type": "execute_result",
          "data": {
            "text/plain": [
              "0.4472135954999579"
            ]
          },
          "metadata": {},
          "execution_count": 13
        }
      ]
    },
    {
      "cell_type": "markdown",
      "metadata": {
        "id": "ObBaccSGAxv7"
      },
      "source": [
        "# Problema 14\n"
      ]
    },
    {
      "cell_type": "markdown",
      "metadata": {
        "id": "fFROrnq0Ift0"
      },
      "source": [
        "## Item a)"
      ]
    },
    {
      "cell_type": "code",
      "metadata": {
        "colab": {
          "base_uri": "https://localhost:8080/"
        },
        "id": "GBgd44NYDewi",
        "outputId": "f72289e5-7967-492c-d164-282d0e43082d"
      },
      "source": [
        "m = 0\n",
        "dist = []\n",
        "n_acertos = []\n",
        "\n",
        "while m <= 15:\n",
        "    n_acertos.append(m)\n",
        "    n_pessoas = binomial(15, m, 0.25)\n",
        "    print('{}% das pessoas acertariam {} questões'.format(100*n_pessoas, m))\n",
        "    dist.append(n_pessoas)\n",
        "    m +=1"
      ],
      "execution_count": null,
      "outputs": [
        {
          "output_type": "stream",
          "name": "stdout",
          "text": [
            "1.3363461010158062% das pessoas acertariam 0 questões\n",
            "6.681730505079031% das pessoas acertariam 1 questões\n",
            "15.590704511851072% das pessoas acertariam 2 questões\n",
            "22.519906517118216% das pessoas acertariam 3 questões\n",
            "22.519906517118216% das pessoas acertariam 4 questões\n",
            "16.514598112553358% das pessoas acertariam 5 questões\n",
            "9.17477672919631% das pessoas acertariam 6 questões\n",
            "3.9320471696555614% das pessoas acertariam 7 questões\n",
            "1.3106823898851871% das pessoas acertariam 8 questões\n",
            "0.33980654552578926% das pessoas acertariam 9 questões\n",
            "0.06796130910515785% das pessoas acertariam 10 questões\n",
            "0.010297168046236038% das pessoas acertariam 11 questões\n",
            "0.0011441297829151154% das pessoas acertariam 12 questões\n",
            "8.800998330116272e-05% das pessoas acertariam 13 questões\n",
            "4.190951585769653e-06% das pessoas acertariam 14 questões\n",
            "9.313225746154785e-08% das pessoas acertariam 15 questões\n"
          ]
        }
      ]
    },
    {
      "cell_type": "markdown",
      "metadata": {
        "id": "X6kKoqTtIcdb"
      },
      "source": [
        "## Item b)"
      ]
    },
    {
      "cell_type": "code",
      "metadata": {
        "colab": {
          "base_uri": "https://localhost:8080/",
          "height": 282
        },
        "id": "u4Y71TqjGc71",
        "outputId": "5189ef50-61d1-43d8-ac6f-17a6ecb4dad5"
      },
      "source": [
        "plt.bar(n_acertos, dist)"
      ],
      "execution_count": null,
      "outputs": [
        {
          "output_type": "execute_result",
          "data": {
            "text/plain": [
              "<BarContainer object of 16 artists>"
            ]
          },
          "metadata": {},
          "execution_count": 19
        },
        {
          "output_type": "display_data",
          "data": {
            "image/png": "[encoded data removed]",
            "text/plain": [
              "<Figure size 432x288 with 1 Axes>"
            ]
          },
          "metadata": {
            "needs_background": "light"
          }
        }
      ]
    },
    {
      "cell_type": "markdown",
      "metadata": {
        "id": "_1mTVK8CIuBS"
      },
      "source": [
        "## Item c)"
      ]
    },
    {
      "cell_type": "code",
      "metadata": {
        "colab": {
          "base_uri": "https://localhost:8080/"
        },
        "id": "nDUeXUTZIxy1",
        "outputId": "e28147d2-7102-48b4-ffd8-16a9b66c87e0"
      },
      "source": [
        "prob_3 = sum(dist[3:]) # somando as probabilidades de 3 ou mais acertos\n",
        "print('{} pessoas dentre 1000 acertariam ao menos 3 questões'.format(int(1000*prob_3))) # arredondando para baixo com int porque não são 764 pessoas."
      ],
      "execution_count": null,
      "outputs": [
        {
          "output_type": "stream",
          "name": "stdout",
          "text": [
            "763 pessoas dentre 1000 acertariam ao menos 3 questões\n"
          ]
        }
      ]
    },
    {
      "cell_type": "markdown",
      "metadata": {
        "id": "b5yLhokqJ_yk"
      },
      "source": [
        "# Problema 15"
      ]
    },
    {
      "cell_type": "code",
      "metadata": {
        "colab": {
          "base_uri": "https://localhost:8080/"
        },
        "id": "yISukKv8KNec",
        "outputId": "cb1532d1-d0c4-4e71-9a05-21ad37d63ab6"
      },
      "source": [
        "f_m = [57, 203, 383, 525, 532, 408, 273, 139, 45, 27, 10, 4, 2, 0, 0]\n",
        "m = [0, 1, 2, 3, 4, 5, 6, 7, 8, 9, 10, 11, 12, 13, 14]"
      ],
      "execution_count": null,
      "outputs": [
        {
          "output_type": "execute_result",
          "data": {
            "text/plain": [
              "15"
            ]
          },
          "metadata": {},
          "execution_count": 28
        }
      ]
    },
    {
      "cell_type": "markdown",
      "metadata": {
        "id": "uDhP6rsoMFkJ"
      },
      "source": [
        "## Item a)"
      ]
    },
    {
      "cell_type": "markdown",
      "metadata": {
        "id": "MJh1TKR7LpOX"
      },
      "source": [
        "\\begin{equation}\n",
        " <m> = \\frac{1}{2608}\\sum_{m=0}^{14} m f_m\n",
        "\\end{equation}"
      ]
    },
    {
      "cell_type": "code",
      "metadata": {
        "colab": {
          "base_uri": "https://localhost:8080/"
        },
        "id": "_VrlXJGxMLHh",
        "outputId": "d8be2e66-34e0-4bb3-da3f-0f97b5c323b4"
      },
      "source": [
        "m_sum = 0\n",
        "for index in range(len(m)):\n",
        "    m_sum += m[index] * f_m[index]\n",
        "\n",
        "m_med = (1/2608) * m_sum\n",
        "\n",
        "print('O valor médio de contagens é {} por intervalo'.format(m_med))"
      ],
      "execution_count": null,
      "outputs": [
        {
          "output_type": "stream",
          "name": "stdout",
          "text": [
            "O valor médio de contagens é 3.870398773006135\n"
          ]
        }
      ]
    },
    {
      "cell_type": "markdown",
      "metadata": {
        "id": "OWx-Xn0oPQjz"
      },
      "source": [
        "## Item b)"
      ]
    },
    {
      "cell_type": "code",
      "metadata": {
        "id": "XMfnCz45PVtT"
      },
      "source": [
        "f_poisson = []\n",
        "\n",
        "for item in m:\n",
        "    f_poisson.append(poisson(item, m_med) * 2608) # multiplicado por 2608 para \"desnormalizar\""
      ],
      "execution_count": null,
      "outputs": []
    },
    {
      "cell_type": "code",
      "metadata": {
        "colab": {
          "base_uri": "https://localhost:8080/",
          "height": 282
        },
        "id": "LCV6tiEXQ-rR",
        "outputId": "b48ab993-7e99-4e6d-cf0d-f8f5d92e110a"
      },
      "source": [
        "plt.bar(m, f_m, alpha=0.5, label='Freq. de Contagens')\n",
        "plt.bar(m, f_poisson, alpha=0.5, label='Dist. de Poisson')\n",
        "plt.legend()"
      ],
      "execution_count": null,
      "outputs": [
        {
          "output_type": "execute_result",
          "data": {
            "text/plain": [
              "<matplotlib.legend.Legend at 0x7ff5327b4fd0>"
            ]
          },
          "metadata": {},
          "execution_count": 44
        },
        {
          "output_type": "display_data",
          "data": {
            "image/png": "[encoded data removed]",
            "text/plain": [
              "<Figure size 432x288 with 1 Axes>"
            ]
          },
          "metadata": {
            "needs_background": "light"
          }
        }
      ]
    },
    {
      "cell_type": "markdown",
      "metadata": {
        "id": "tXf80w2AcEH9"
      },
      "source": [
        "# Problema 18"
      ]
    },
    {
      "cell_type": "markdown",
      "metadata": {
        "id": "NcugPuH3cJQ_"
      },
      "source": [
        "Dado que os erros são aproximadamente constantes, pode-se fazer o ajuste ignorando os erros.\n",
        "\\begin{equation}\n",
        "    D = k E^{1/4}\n",
        "\\end{equation}"
      ]
    },
    {
      "cell_type": "code",
      "metadata": {
        "colab": {
          "base_uri": "https://localhost:8080/"
        },
        "id": "P-un9iRQcfPc",
        "outputId": "1b890fa0-2953-4205-cfec-acec3c037242"
      },
      "source": [
        "D = [4.9, 6.7, 7.3, 8.1, 9.2]\n",
        "E = [0.07, 0.18, 0.3, 0.45, 0.69]\n",
        "#epsilon_D = [0.3, 0.3, 0.4, 0.4, 0.4]\n",
        "E14 = [item**(1/4) for item in E]\n",
        "\n",
        "coefs, cov = polyfit(E14, D, 1, cov=True)\n",
        "\n",
        "errors = sqrt(diag(cov)) # erro dado pela diagonal da matriz de covariancia\n",
        "\n",
        "print('O valor de k é de {} +- {}'.format(coefs[0], errors[0]))"
      ],
      "execution_count": null,
      "outputs": [
        {
          "output_type": "stream",
          "name": "stdout",
          "text": [
            "[0.57841206 0.4280284 ]\n",
            "O valor de k é de 10.469785383694187 +- 0.5784120576419957\n"
          ]
        }
      ]
    }
  ]
}