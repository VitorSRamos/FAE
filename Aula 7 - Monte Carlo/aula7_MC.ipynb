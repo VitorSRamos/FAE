{
  "nbformat": 4,
  "nbformat_minor": 0,
  "metadata": {
    "colab": {
      "name": "aula7_MC.ipynb",
      "provenance": []
    },
    "kernelspec": {
      "name": "python3",
      "display_name": "Python 3"
    },
    "language_info": {
      "name": "python"
    }
  },
  "cells": [
    {
      "cell_type": "code",
      "metadata": {
        "id": "hhsSmOQ6KaVg"
      },
      "source": [
        "# Importações iniciais\n",
        "import numpy as np\n",
        "import matplotlib.pyplot as plt"
      ],
      "execution_count": 1,
      "outputs": []
    },
    {
      "cell_type": "markdown",
      "metadata": {
        "id": "yyyLxm1-VHpc"
      },
      "source": [
        "# Exercício 1\n",
        "\n",
        "Escreva um código que estime a área de um disco unitário com o mesmo\n",
        "método usado no problema de Buffon. Sabemos que o raio do disco é 1,\n",
        "então o círculo está inscrito em um quadrado de lado 2 (slide 9). Dica: Gere amostras nesse quadrado e conte os pontos que estão\n",
        "dentro do disco. Para testar se um ponto está dentro ou fora do disco,\n",
        "meça a distância do ponto à origem (o centro do disco) e cheque se a\n",
        "distância é menor ou igual ao raio do disco"
      ]
    },
    {
      "cell_type": "markdown",
      "metadata": {
        "id": "F0l-dccUevNO"
      },
      "source": [
        "Para o caso proposto, temos:\n",
        "\\begin{equation}\n",
        "    P(x^2 + y^2 \\leq 1) = \\frac{\\pi}{4}\n",
        "\\end{equation}\n",
        "Assim, temos $\\pi = 4 \\times \\frac{n_{circ}}{n_{tot}}$, onde $n_{circ}$ é o número de pontos dentro da circunferência e $n_{tot}$ é o número total de pontos."
      ]
    },
    {
      "cell_type": "code",
      "metadata": {
        "colab": {
          "base_uri": "https://localhost:8080/"
        },
        "id": "W24RdsljU38g",
        "outputId": "6c1c5103-e9c2-4056-db23-b5628c7c9e5d"
      },
      "source": [
        "def dist(x, y): # retorna distância do ponto à origem\n",
        "    return np.sqrt(x**2 + y**2)\n",
        "\n",
        "d = [] # Lista para guardar as distâncias de cada ponto gerado à origem\n",
        "\n",
        "# gerando 10 milhões de pontos dentro do quadrado\n",
        "for _ in range(10000000):\n",
        "    x_coord = np.random.uniform(-1, 1) \n",
        "    y_coord = np.random.uniform(-1, 1)\n",
        "\n",
        "    # Salvando na lista\n",
        "    d.append(dist(x_coord, y_coord))\n",
        "\n",
        "# Lista de pontos no círculo (distância menor que 1):\n",
        "p_c = [item for item in d if item <= 1]\n",
        "\n",
        "# número de pontos em cada caso é dado pelo comprimento das listas\n",
        "print('A estimativa para pi é de {}'.format(4 * len(p_c)/len(d)))"
      ],
      "execution_count": null,
      "outputs": [
        {
          "output_type": "stream",
          "name": "stdout",
          "text": [
            "A estimativa para pi é de 3.1419496\n"
          ]
        }
      ]
    },
    {
      "cell_type": "markdown",
      "metadata": {
        "id": "L2b53PlWK1GR"
      },
      "source": [
        "# Exercício 2\n",
        "\n",
        "Escreva um código que calcule a integral usando o método de rejeição e o\n",
        "método direto.\n",
        "\n",
        "\\begin{equation}\n",
        "    \\int_0^3 (1-x^2)^2 dx\n",
        "\\end{equation}\n"
      ]
    },
    {
      "cell_type": "code",
      "metadata": {
        "colab": {
          "base_uri": "https://localhost:8080/"
        },
        "id": "wkNNTmq7M82Y",
        "outputId": "f7353eab-cd65-4415-dd7e-923276582de2"
      },
      "source": [
        "# Analisando a função f(x) = (1-x**2)**2\n",
        "\n",
        "def func_x(input_x): # função que retorna f(x) para um input x:\n",
        "    return (1 - input_x**2)**2\n",
        "\n",
        "# Gerando pontos daa função para plotar\n",
        "x = np.linspace(0, 3)\n",
        "y = (1-x**2)**2\n",
        "plt.plot(x, y)\n",
        "\n",
        "\n",
        "# Maior valor que a função atinge no intervalo (0,3)\n",
        "print(func_x(3))"
      ],
      "execution_count": null,
      "outputs": [
        {
          "output_type": "stream",
          "name": "stdout",
          "text": [
            "64\n"
          ]
        },
        {
          "output_type": "display_data",
          "data": {
            "image/png": "[encoded data removed]",
            "text/plain": [
              "<Figure size 432x288 with 1 Axes>"
            ]
          },
          "metadata": {
            "needs_background": "light"
          }
        }
      ]
    },
    {
      "cell_type": "markdown",
      "metadata": {
        "id": "JwyJCR3LM4Ax"
      },
      "source": [
        "## Metodo da rejeição\n",
        "Para este método, vamos gerar pontos no retângulo limitado pelo intervalo x = [0,3] e y = [0, 64], uma vez que 64 é o maior valor que $f(x)$ atinge.\n",
        "\n",
        "O valor da integral é dado por $ I = A \\times \\frac{m}{N}$, onde $A$ é a área do quadrado, $m$ é a quantidade de pontos abaixo da curva e $N$ é o número total de pontos."
      ]
    },
    {
      "cell_type": "code",
      "metadata": {
        "colab": {
          "base_uri": "https://localhost:8080/"
        },
        "id": "eXOs1EcjONUx",
        "outputId": "9f2f9f72-7683-4eee-b939-206dcaa2abc2"
      },
      "source": [
        "# Área do quadrado:\n",
        "A_quad = 3 * 64\n",
        "\n",
        "# Avaliando 10^7 pontos\n",
        "contagem_total = 10000000\n",
        "contagem_aceitos = 0 # inicializando contagem de pontos aceitos\n",
        "counter = 0\n",
        "\n",
        "for _ in range (contagem_total):\n",
        "    counter +=1\n",
        "    # gerando coordenadas x e y nos intervalos especificados\n",
        "    x_coord = np.random.uniform(0, 3) \n",
        "    y_coord = np.random.uniform(0, 64)\n",
        "\n",
        "    if y_coord < func_x(x_coord): # Caso a coordenada y seja menor que f(x), ou seja, o ponto esteja abaixo da curva, adiciona-se 1 à contagem de pontos aceitos\n",
        "        contagem_aceitos += 1\n",
        "    else: # caso esteja acima, não é necessário fazer nada\n",
        "        pass     \n",
        "\n",
        "# Calculando a integral como na equação descrita\n",
        "I = A_quad * contagem_aceitos / contagem_total\n",
        "\n",
        "print('A integral é: {}'.format(I))"
      ],
      "execution_count": null,
      "outputs": [
        {
          "output_type": "stream",
          "name": "stdout",
          "text": [
            "A integral é: 33.5875776\n"
          ]
        }
      ]
    },
    {
      "cell_type": "markdown",
      "metadata": {
        "id": "TMHjUCoESbHG"
      },
      "source": [
        "## Método direto\n",
        "Este método é como uma \"média\" das áreas dos retângulos de altura f(x).\n",
        "Para este método usamos a equação:\n",
        "\\begin{equation}\n",
        "    I = (b-a) \\frac{1}{N} \\sum_{i=1}^{N} f[x_i (b-a) + a]\n",
        "\\end{equation}"
      ]
    },
    {
      "cell_type": "code",
      "metadata": {
        "colab": {
          "base_uri": "https://localhost:8080/"
        },
        "id": "usxTpIZTSadW",
        "outputId": "ea337d2a-98e2-4095-cf65-87f1aa70a8d8"
      },
      "source": [
        "sum_tot = 0 # Inicializando o somatório\n",
        "\n",
        "n_tot = 1000000 # 10^7 iterações como no caso anterior\n",
        "\n",
        "# Definindo os limites do intervalo\n",
        "a = 0\n",
        "b = 3\n",
        "\n",
        "for _ in range(n_tot):\n",
        "    x_coord = np.random.uniform(0, 1) # gera um ponto aleatório entre 0 e 1\n",
        "\n",
        "    arg = x_coord * (b-a) + a # define o argumento da função f(x) segundo a equação apresentada acima\n",
        "    \n",
        "    sum_tot += func_x(arg) # aplica função a este argumento\n",
        "\n",
        "# Calculando I como na equação acima\n",
        "I = (b-a) * (1/n_tot) * sum_tot\n",
        "\n",
        "print('A integral é: {}'.format(I))"
      ],
      "execution_count": null,
      "outputs": [
        {
          "output_type": "stream",
          "name": "stdout",
          "text": [
            "A integral é: 33.65872516571308\n"
          ]
        }
      ]
    },
    {
      "cell_type": "markdown",
      "metadata": {
        "id": "JqVSO4q4XuY-"
      },
      "source": [
        "# Exercício 3"
      ]
    },
    {
      "cell_type": "markdown",
      "metadata": {
        "id": "q-puBLhf_-0F"
      },
      "source": [
        "Escreva um código que calcula a seção de choque diferencial do\n",
        "espalhamento de Rutherford.\n",
        "\n",
        "\\begin{equation}\n",
        "    \\frac{d\\sigma}{d \\Omega} = \\left( \\frac{e^2}{8 \\pi \\epsilon_0 m v_0^2} \\right)^2 \\frac{1}{\\sin^4(\\theta/2)}\n",
        "\\end{equation}"
      ]
    },
    {
      "cell_type": "code",
      "metadata": {
        "id": "QJlskesNGGZ2"
      },
      "source": [
        "# Definindo constantes\n",
        "e = np.exp(1)\n",
        "epsilon0 = 55.263 #e^2 GeV^-1 fm^-1\n",
        "\n",
        "# Dados da partícula\n",
        "m = 0.511  # Mev/c^2, massa do elétron\n",
        "v0 = 0.3 # c (30% da velocidade da luz) "
      ],
      "execution_count": 111,
      "outputs": []
    },
    {
      "cell_type": "code",
      "metadata": {
        "id": "XkVerXqTGIJ2"
      },
      "source": [
        "def esp_ruth(theta, m=m, v0=v0): # Calcula a equação do problema para um ângulo, m e v0 são opcionais\n",
        "    sigma = ( (e)**2 / (8 * np.pi * epsilon0 * m * v0**2) )**2 * ( 1 / np.sin(theta/2)**4 )\n",
        "    return sigma"
      ],
      "execution_count": 112,
      "outputs": []
    },
    {
      "cell_type": "code",
      "metadata": {
        "colab": {
          "base_uri": "https://localhost:8080/"
        },
        "id": "zF8-0IZSGPy6",
        "outputId": "7448a846-184d-490f-f97b-fc084952ce08"
      },
      "source": [
        "range_theta = np.linspace(-np.pi, np.pi, 10) # gerando range de ângulos entre -pi e pi\n",
        "\n",
        "range_ruth = [esp_ruth(item) for item in range_theta] # aplicando a equação a cada um desses ângulos\n",
        "\n",
        "# O valor máximo é usado para definir os limites do intervalo de geração de pontos\n",
        "print(max(range_ruth))"
      ],
      "execution_count": 113,
      "outputs": [
        {
          "output_type": "stream",
          "name": "stdout",
          "text": [
            "14.717076741750839\n"
          ]
        }
      ]
    },
    {
      "cell_type": "code",
      "metadata": {
        "id": "5jGCk9Ee_4u0"
      },
      "source": [
        "n = 10000 #número de eventos\n",
        "\n",
        "data_theta = [] # lista pra guardar valores do histograma\n",
        "\n",
        "for _ in range(n):\n",
        "    while True:        \n",
        "        theta = np.random.uniform(-np.pi, np.pi) # gera um theta aletório entre -pi e pi\n",
        "        y = max(range_ruth) * np.random.uniform(0, 1) # gera um y aleatório no intervalo [0, max(range_ruth)]\n",
        "        \n",
        "        # Cross section\n",
        "        sigma = esp_ruth(theta) # calcula a seção de choque do theta gerado\n",
        "        \n",
        "        #Método de rejeição\n",
        "        \n",
        "        if y <= sigma: # caso o ponto esteja abaixo da curva, ele é salvo na lista\n",
        "            data_theta.append(theta)\n",
        "            break\n",
        "\n",
        "# Loop se repete até que se tenham 10 mil eventos"
      ],
      "execution_count": 116,
      "outputs": []
    },
    {
      "cell_type": "code",
      "metadata": {
        "id": "b9mplrGIBY42",
        "colab": {
          "base_uri": "https://localhost:8080/",
          "height": 406
        },
        "outputId": "4cea6440-bd4b-45a9-e2e0-58a68ddde110"
      },
      "source": [
        "# Plotando o histograma\n",
        "fig, ax = plt.subplots(figsize = (10,6))\n",
        "\n",
        "plt.hist(data_theta, 100, range = (-np.pi, np.pi)) # 100 bins entre -pi e pi\n",
        "#detalhes do plot\n",
        "ax.set_title(r'Espalhamento Rutherford')\n",
        "ax.set_ylabel(r'Seção de choque diferencial $\\frac{d\\sigma}{d\\Omega}$')\n",
        "ax.set_xlabel(r'$\\theta$')\n",
        "plt.grid()"
      ],
      "execution_count": 117,
      "outputs": [
        {
          "output_type": "display_data",
          "data": {
            "image/png": "[encoded data removed]",
            "text/plain": [
              "<Figure size 720x432 with 1 Axes>"
            ]
          },
          "metadata": {
            "needs_background": "light"
          }
        }
      ]
    }
  ]
}