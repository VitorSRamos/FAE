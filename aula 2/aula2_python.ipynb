{
  "nbformat": 4,
  "nbformat_minor": 0,
  "metadata": {
    "colab": {
      "name": "aula2_python.ipynb",
      "provenance": [],
      "collapsed_sections": [
        "xzuKo9zE4zOM",
        "BzXOKQzDYvRa",
        "JssnV7R_kIYH",
        "oRYUeuuyxNpk",
        "brtA4NGI2OKW",
        "q2nE4aes4uY-",
        "TTOm4RsE9DOf",
        "3ogoqPz3_fXj"
      ],
      "authorship_tag": "ABX9TyMJ5X+r0d+rKzUlftbg8coT",
      "include_colab_link": true
    },
    "kernelspec": {
      "name": "python3",
      "display_name": "Python 3"
    },
    "language_info": {
      "name": "python"
    }
  },
  "cells": [
    {
      "cell_type": "markdown",
      "metadata": {
        "id": "view-in-github",
        "colab_type": "text"
      },
      "source": [
        "<a href=\"https://colab.research.google.com/github/VitorSRamos/FAE/blob/main/aula%202/aula2_python.ipynb\" target=\"_parent\"><img src=\"https://colab.research.google.com/assets/colab-badge.svg\" alt=\"Open In Colab\"/></a>"
      ]
    },
    {
      "cell_type": "markdown",
      "metadata": {
        "id": "xzuKo9zE4zOM"
      },
      "source": [
        "# Introdução"
      ]
    },
    {
      "cell_type": "markdown",
      "metadata": {
        "id": "5rWWecMp4QAI"
      },
      "source": [
        "Este notebook contém as soluções da lista de exercícios de Python da disciplina de Introdução a Análise de Dados em Física de Altas Energias e Tecnologias Associadas, de 2021/1."
      ]
    },
    {
      "cell_type": "markdown",
      "metadata": {
        "id": "SeiCYUrx4u44"
      },
      "source": [
        "Para alguns exercícios é necessária a tomada de entrada do usuário. É útil definir uma função para evitar inputs inválidos."
      ]
    },
    {
      "cell_type": "code",
      "metadata": {
        "id": "rovtSCzf4lKD"
      },
      "source": [
        "def input_valido(msg_input, msg_erro, tipo):\n",
        "    while True: # tenta tomar um input válido\n",
        "        try:\n",
        "            valido = tipo(input(msg_input)) # tenta criar variável com valor do input no formato informado no parâmetro \"tipo\"\n",
        "            break # Caso consiga, o loop é quebrado\n",
        "        except: # caso o input seja inválido, mostra a mensagem de erro e tenta novamente tomar um input\n",
        "            print(msg_erro)\n",
        "    return valido # retorna o input válido"
      ],
      "execution_count": 23,
      "outputs": []
    },
    {
      "cell_type": "markdown",
      "metadata": {
        "id": "vJQa4GIZTWKp"
      },
      "source": [
        "# Exercício 1:\n",
        "Receba a temperatura em Celsius como entrada, e como saída, dê a temperatura em Fahrenheit."
      ]
    },
    {
      "cell_type": "code",
      "metadata": {
        "colab": {
          "base_uri": "https://localhost:8080/"
        },
        "id": "4dKr86q9TDQO",
        "outputId": "667eeb34-6efb-4310-a3bb-7a90aa1f03ae"
      },
      "source": [
        "def C_para_F(t_celsius):\n",
        "\n",
        "    # Transforma a temperatura de Celsius para Fahrenheit\n",
        "\n",
        "    return 32 + 1.8 * t_celsius\n",
        "\n",
        "input_t = input_valido('Temperatura em Celsius: ', 'Entrada inválida. Deve ser um número real', float) # Recebe a temperatura como float\n",
        "\n",
        "print('Temperatura em Fahrenheit:', C_para_F(input_t)) # printando o resultado da função"
      ],
      "execution_count": 24,
      "outputs": [
        {
          "output_type": "stream",
          "name": "stdout",
          "text": [
            "Temperatura em Celsius: 10\n",
            "Temperatura em Fahrenheit: 50.0\n"
          ]
        }
      ]
    },
    {
      "cell_type": "markdown",
      "metadata": {
        "id": "NM1xB8d3UkzC"
      },
      "source": [
        "# Exercício 2\n",
        "Calcule as raízes da equação de segundo grau, tendo como entrada os valores de a, b e c. Não se esqueça de incluir os\n",
        "casos em que a=0, delta > 0, delta = 0 e delta < 0.\n"
      ]
    },
    {
      "cell_type": "markdown",
      "metadata": {
        "id": "uoK089mZ12Ug"
      },
      "source": [
        "Partimos de:\n",
        "\\begin{equation}\n",
        "    ax^2 + bx + c = 0\n",
        "\\end{equation}\n",
        "\n",
        "Caso $a \\neq 0$, resolvemos usando:\n",
        "\n",
        "\\begin{equation}\n",
        "    \\Delta = b^2 - 4ac\n",
        "\\end{equation}\n",
        "\\begin{equation}\n",
        "   x = \\frac{-b \\pm \\sqrt{\\Delta}}{2a}\n",
        "\\end{equation}\n",
        "\n",
        "Resultando nas duas raízes. Caso $a$ seja 0, haverá uma indeterminação na segunda equação. Neste caso, temos:\n",
        "\n",
        "\\begin{equation}\n",
        "    bx + c = 0 \\Rightarrow x = -\\frac{c}{b}\n",
        "\\end{equation}\n",
        "Resultando na única raíz."
      ]
    },
    {
      "cell_type": "code",
      "metadata": {
        "colab": {
          "base_uri": "https://localhost:8080/"
        },
        "id": "2bOZKRjpzc-T",
        "outputId": "f0c91fb1-3f83-4c10-9253-7016e8a527e4"
      },
      "source": [
        "def raizes_2o_grau(a, b, c):\n",
        "\n",
        "    # Função que calcula e imprime as raízes da equação do 2o grau de coeficientes a, b e c\n",
        "\n",
        "    if a != 0: # Caso geral\n",
        "        \n",
        "        delta = b**2 - 4 * a * c # Calcula delta\n",
        "        print('O discriminante é: {}'.format(delta))\n",
        "\n",
        "        raiz_1 = ( -b + (delta)**(0.5) ) / (2*a) # calcula duas raízes\n",
        "        raiz_2 = ( -b - (delta)**(0.5) ) / (2*a)\n",
        "        \n",
        "        if delta < 0: # Caso delta seja negativo, as raízes serão complexas\n",
        "            print('As raízes complexas são', raiz_1, 'e', raiz_2)\n",
        "\n",
        "        elif delta == 0: # Caso delta seja raíz, a equação possui uma raíz dupla\n",
        "            print('A raiz dupla é', raiz_1)\n",
        "        \n",
        "        else: # Caso restante é delta > 0, com duas raízes reais\n",
        "            print('As duas raízes são', raiz_1, 'e', raiz_2)\n",
        "        \n",
        "        # retorna os valores caso precisem ser usados, retirado para este caso\n",
        "        # return raiz_1, raiz_2 \n",
        "    \n",
        "    else: # caso específico onde a=0, uma equação de primeiro grau\n",
        "        \n",
        "        raiz = - (c/b)\n",
        "        \n",
        "        print('A raiz é', raiz)\n",
        "        # retorna a raiz caso precisem ser usados, retirado para este caso\n",
        "        #return raiz\n",
        "\n",
        "# recebendo input do usuário\n",
        "\n",
        "a = input_valido('Insira o valor do coeficiente a: ', 'Erro: Deve ser um número real.', float)\n",
        "b = input_valido('Insira o valor do coeficiente b: ', 'Erro: Deve ser um número real.', float)\n",
        "c = input_valido('Insira o valor do coeficiente c: ', 'Erro: Deve ser um número real.', float)\n",
        "\n",
        "raizes_2o_grau(a, b, c) # calculando"
      ],
      "execution_count": 25,
      "outputs": [
        {
          "output_type": "stream",
          "name": "stdout",
          "text": [
            "Insira o valor do coeficiente a: 3\n",
            "Insira o valor do coeficiente b: -8\n",
            "Insira o valor do coeficiente c: 5\n",
            "O discriminante é: 4.0\n",
            "As duas raízes são 1.6666666666666667 e 1.0\n"
          ]
        }
      ]
    },
    {
      "cell_type": "code",
      "metadata": {
        "colab": {
          "base_uri": "https://localhost:8080/"
        },
        "id": "JDKjVqEwC4f6",
        "outputId": "48b701e0-47a1-4b51-9a05-8e6f3d9ffa8c"
      },
      "source": [
        "# Exemplos:\n",
        "\n",
        "print('delta > 0')\n",
        "raizes_2o_grau(1, 5, -6) \n",
        "\n",
        "print('\\ndelta = 0')\n",
        "raizes_2o_grau(1, 2, 1) \n",
        "\n",
        "print('\\ndelta < 0')\n",
        "raizes_2o_grau(1, 1, 1) \n",
        "\n",
        "print('\\na = 0')\n",
        "raizes_2o_grau(0, -1, 2) "
      ],
      "execution_count": 26,
      "outputs": [
        {
          "output_type": "stream",
          "name": "stdout",
          "text": [
            "delta > 0\n",
            "O discriminante é: 49\n",
            "As duas raízes são 1.0 e -6.0\n",
            "\n",
            "delta = 0\n",
            "O discriminante é: 0\n",
            "A raiz dupla é -1.0\n",
            "\n",
            "delta < 0\n",
            "O discriminante é: -3\n",
            "As raízes complexas são (-0.49999999999999994+0.8660254037844386j) e (-0.5-0.8660254037844386j)\n",
            "\n",
            "a = 0\n",
            "A raiz é 2.0\n"
          ]
        }
      ]
    },
    {
      "cell_type": "markdown",
      "metadata": {
        "id": "c1f7gx2sUskW"
      },
      "source": [
        "# Exercício 3\n",
        "Determine se um número de entrada é par ou ímpar.\n"
      ]
    },
    {
      "cell_type": "code",
      "metadata": {
        "colab": {
          "base_uri": "https://localhost:8080/"
        },
        "id": "xhxrgbyaU4P0",
        "outputId": "cd53bb88-a986-4c7b-a987-f462397555fa"
      },
      "source": [
        "def par_ou_impar(numero):\n",
        "    \n",
        "    # Avalia o resto da divisão por dois de um dado número \n",
        "    # e determina se ele é par ou ímpar\n",
        "\n",
        "    resto = numero%2\n",
        "    \n",
        "    if resto == 0: # caso o resto seja 0, o número é par\n",
        "        print('O número {} é par'.format(numero))\n",
        "    else:\n",
        "        print('O número {} é ímpar'.format(numero))\n",
        "\n",
        "input_n = input_valido('Insira um número inteiro: ', 'Entrada inválido. Deve ser um número inteiro.', int)\n",
        "\n",
        "par_ou_impar(input_n)"
      ],
      "execution_count": 27,
      "outputs": [
        {
          "output_type": "stream",
          "name": "stdout",
          "text": [
            "Insira um número inteiro: dois\n",
            "Entrada inválido. Deve ser um número inteiro.\n",
            "Insira um número inteiro: 2\n",
            "O número 2 é par\n"
          ]
        }
      ]
    },
    {
      "cell_type": "markdown",
      "metadata": {
        "id": "BzXOKQzDYvRa"
      },
      "source": [
        "# Exercício 4\n",
        "Escreva uma função em Python que calcule a posição de um automóvel que está em movimento retilíneo uniforme, para\n",
        "um dado instante t."
      ]
    },
    {
      "cell_type": "markdown",
      "metadata": {
        "id": "87E-OLCVY4RK"
      },
      "source": [
        "MRU: $ x = x_0 + v_0t $"
      ]
    },
    {
      "cell_type": "code",
      "metadata": {
        "colab": {
          "base_uri": "https://localhost:8080/"
        },
        "id": "1YoD_EJwZL7v",
        "outputId": "02535ec1-ecc6-461e-f3d0-28c06773dd25"
      },
      "source": [
        "def nova_posicao(x0, v0, t):\n",
        "\n",
        "    # Seguindo a equação acima, calculamos a posição a partir da \n",
        "    # posição inicial x0, da velocidade v0 e do tempo total t\n",
        "\n",
        "    return x0 + v0*t\n",
        "\n",
        "# OBS: a unidade da saida da função depende das unidades de entrada\n",
        "# Exemplo:\n",
        "\n",
        "v = 2 # m/s\n",
        "t = 3 # s\n",
        "\n",
        "print('Posição: {} metros'.format(nova_posicao(0, v, t)))\n",
        "\n",
        "\n"
      ],
      "execution_count": 28,
      "outputs": [
        {
          "output_type": "stream",
          "name": "stdout",
          "text": [
            "Posição: 6 metros\n"
          ]
        }
      ]
    },
    {
      "cell_type": "markdown",
      "metadata": {
        "id": "ypp4LATeasSI"
      },
      "source": [
        "# Exercício 5:\n",
        "Pergunte ao usuário por uma string e cheque se a letra ‘s’ está contida nela."
      ]
    },
    {
      "cell_type": "code",
      "metadata": {
        "colab": {
          "base_uri": "https://localhost:8080/"
        },
        "id": "MPt9E_r0htOd",
        "outputId": "5db0b2cb-5aa3-42f0-b1f1-4bc33c1ebcc0"
      },
      "source": [
        "# Neste caso, a função do input é desnecessária, pois a saida da função input sempre é uma string\n",
        "\n",
        "input_s = str(input('Insira uma string: '))\n",
        "\n",
        "def tem_s(texto):\n",
        "\n",
        "    # Avalia a quantidade de vezes que 's' aparece em uma string\n",
        "    # Caso seja 0, informa que 's' não aparece\n",
        "    # Caso contrário, informa que 's' aparece\n",
        "\n",
        "    if texto.count('s') == 0:\n",
        "        print(\"A letra 's' não está contida na string.\")\n",
        "    else:\n",
        "        print(\"A letra 's' está contida na string.\")\n",
        "    \n",
        "tem_s(input_s)"
      ],
      "execution_count": 29,
      "outputs": [
        {
          "output_type": "stream",
          "name": "stdout",
          "text": [
            "Insira uma string: string qualquer\n",
            "A letra 's' está contida na string.\n"
          ]
        }
      ]
    },
    {
      "cell_type": "markdown",
      "metadata": {
        "id": "JssnV7R_kIYH"
      },
      "source": [
        "# Exercício 6\n",
        "Imprima os 100 primeiros números primos."
      ]
    },
    {
      "cell_type": "markdown",
      "metadata": {
        "id": "QggS8dvZpq2d"
      },
      "source": [
        "Um número n é primo se ele é divisível somente por 1 e por ele mesmo. Podemos testar se n é primo dividindo n por todos os números naturais entre 2 e n-1. Caso o resto de uma dessas divisões seja 0, o número é primo. Se nenhuma vez for 0, o número é primo."
      ]
    },
    {
      "cell_type": "code",
      "metadata": {
        "colab": {
          "base_uri": "https://localhost:8080/"
        },
        "id": "TDpGq0EUkNLi",
        "outputId": "163181ff-1ba0-45f5-8af9-669b498cf120"
      },
      "source": [
        "def teste_primo(numero):\n",
        "\n",
        "    # Testa se um determinado número é primo\n",
        "    # dividindo esse número por todos os inteiros entre 2 e ele mesmo - 1\n",
        "    # caso encontre o resto 0 em alguma dessas divisões, conclui que o numero não é primo\n",
        "    # caso não encontre nenhum resto 0, o número é primo\n",
        "    #\n",
        "    # OBSERVAÇÃO: NÃO FUNCIONA PARA 0 E 1, QUE NÃO SÃO PRIMOS   \n",
        "\n",
        "    for n in range(2, numero): # inicia o loop com n sendo cada um dos numeros naturais entre 2 e numero - 1\n",
        "                               # range não inclui numero, vai só até numero-1\n",
        "    \n",
        "        resto = numero % n # determina o resto\n",
        "        \n",
        "        if resto == 0: # caso resto seja 0, retorna False e termina a função\n",
        "            #print('Não primo')\n",
        "            return False\n",
        "            \n",
        "        else:   # Caso não seja, deixa o loop ir para a próxima volta sem fazer nada (passando)\n",
        "            pass\n",
        "    \n",
        "    # após o fim do loop for, caso nenhuma das divisões tenha resto 0 (número primo), retorna True\n",
        "    #print('primo')\n",
        "    return True   \n",
        "\n",
        "\n",
        "#testando\n",
        "teste_primo(6)"
      ],
      "execution_count": 30,
      "outputs": [
        {
          "output_type": "execute_result",
          "data": {
            "text/plain": [
              "False"
            ]
          },
          "metadata": {},
          "execution_count": 30
        }
      ]
    },
    {
      "cell_type": "markdown",
      "metadata": {
        "id": "ZK6kqQT5vvPZ"
      },
      "source": [
        "Com esta função, basta testar cada um dos números naturais até que se tenha uma lista com 100 itens"
      ]
    },
    {
      "cell_type": "code",
      "metadata": {
        "id": "wIseLEXYo2Mt"
      },
      "source": [
        "primos = [] # lista vazia que vai conter os números primos\n",
        "\n",
        "index = 2 # índice para começar a testar se os números são primos. Começa em 2 devido as limitações de teste_primo\n",
        "\n",
        "while len(primos) < 100: # cria um loop que se repeta até que a lista de números primos tenha 100 itens\n",
        "\n",
        "    if teste_primo(index) == True: # Caso o resultado da função teste_primo seja positivo, o número index é colocado na lista de primos\n",
        "        primos.append(index)\n",
        "    else: # caso contrário, é ignorado\n",
        "        pass\n",
        "\n",
        "    index += 1 # atualiza index para que a próxima volta do loop seja feita com o próximo inteiro"
      ],
      "execution_count": 31,
      "outputs": []
    },
    {
      "cell_type": "code",
      "metadata": {
        "colab": {
          "base_uri": "https://localhost:8080/"
        },
        "id": "DLtgVDkMwaFx",
        "outputId": "0ff552dc-7b78-42e0-e358-c3b1cd18c71b"
      },
      "source": [
        "print(primos) # printa a lista completa com os 100 primeiros números primos"
      ],
      "execution_count": 32,
      "outputs": [
        {
          "output_type": "stream",
          "name": "stdout",
          "text": [
            "[2, 3, 5, 7, 11, 13, 17, 19, 23, 29, 31, 37, 41, 43, 47, 53, 59, 61, 67, 71, 73, 79, 83, 89, 97, 101, 103, 107, 109, 113, 127, 131, 137, 139, 149, 151, 157, 163, 167, 173, 179, 181, 191, 193, 197, 199, 211, 223, 227, 229, 233, 239, 241, 251, 257, 263, 269, 271, 277, 281, 283, 293, 307, 311, 313, 317, 331, 337, 347, 349, 353, 359, 367, 373, 379, 383, 389, 397, 401, 409, 419, 421, 431, 433, 439, 443, 449, 457, 461, 463, 467, 479, 487, 491, 499, 503, 509, 521, 523, 541]\n"
          ]
        }
      ]
    },
    {
      "cell_type": "markdown",
      "metadata": {
        "id": "oRYUeuuyxNpk"
      },
      "source": [
        "# Exercício 7\n",
        "Remova todos os espaços em branco e coloque a primeira letra maiúscula da lista: nomes = [' marCELo', 'fabiana', '\n",
        "MArta ', 'ELIAS']."
      ]
    },
    {
      "cell_type": "code",
      "metadata": {
        "colab": {
          "base_uri": "https://localhost:8080/"
        },
        "id": "Xd4hnWvd0Gg5",
        "outputId": "f9b05c93-c200-4943-a32b-73cba7912b86"
      },
      "source": [
        "nomes = [' marCELo', 'fabiana', 'MArta ', 'ELIAS']\n",
        "\n",
        "nomes_sem_espaco = [item.lstrip() for item in nomes] # usando um método que tira os espaços no começo, aplicado sobre a lista original\n",
        "\n",
        "print(nomes_sem_espaco)\n",
        "\n",
        "nomes_capitalizados = [item.capitalize() for item in nomes_sem_espaco] # usando um método que capitaliza a primeira letra da string, aplicado sobre os nomes sem espaço\n",
        "\n",
        "print(nomes_capitalizados)"
      ],
      "execution_count": 33,
      "outputs": [
        {
          "output_type": "stream",
          "name": "stdout",
          "text": [
            "['marCELo', 'fabiana', 'MArta ', 'ELIAS']\n",
            "['Marcelo', 'Fabiana', 'Marta ', 'Elias']\n"
          ]
        }
      ]
    },
    {
      "cell_type": "markdown",
      "metadata": {
        "id": "brtA4NGI2OKW"
      },
      "source": [
        "# Exercício 8\n",
        "Remova todos os elementos duplicados da lista nomes = ['carlos', 'carlos', 'leonardo', 'carlos, 'roberto', 'maria', 'gabriela',\n",
        "2, 2, 2, 3, 3, 4, 'guilherme', 'gustavo'].\n"
      ]
    },
    {
      "cell_type": "code",
      "metadata": {
        "colab": {
          "base_uri": "https://localhost:8080/"
        },
        "id": "kOjII9_Z2S8C",
        "outputId": "dbacf333-eee1-47af-c340-35820b03a156"
      },
      "source": [
        "nomes = ['carlos', 'carlos', 'leonardo', 'carlos', 'roberto', 'maria', 'gabriela', 2, 2, 2, 3, 3, 4, 'guilherme', 'gustavo']\n",
        "\n",
        "novos_nomes = [] # lista temporária para abrigar itens não repetidos de nomes\n",
        "\n",
        "for item in nomes:\n",
        "    if item not in novos_nomes: # Adiciono item de nomes à lista novos_nomes caso esse item não exista em novos_nomes\n",
        "        novos_nomes.append(item)\n",
        "\n",
        "nomes = novos_nomes # atualizo a lista nomes para remover elementos duplicados\n",
        "\n",
        "print(nomes)"
      ],
      "execution_count": 34,
      "outputs": [
        {
          "output_type": "stream",
          "name": "stdout",
          "text": [
            "['carlos', 'leonardo', 'roberto', 'maria', 'gabriela', 2, 3, 4, 'guilherme', 'gustavo']\n"
          ]
        }
      ]
    },
    {
      "cell_type": "markdown",
      "metadata": {
        "id": "q2nE4aes4uY-"
      },
      "source": [
        "# Exercício 9\n",
        "Escreva uma função que faça um loop sobre a lista primeiro_nome e a lista ultimo_nome, combine as duas e retorne\n",
        "uma lista como nome completo. primeiro_nome = ['Pedro', 'Patricia', 'Lilian','Monica'] e ultimo_nome = ['Machado', 'Oliveira', 'Silva', 'Nunes]"
      ]
    },
    {
      "cell_type": "code",
      "metadata": {
        "colab": {
          "base_uri": "https://localhost:8080/"
        },
        "id": "DEzWzGLF5Pqs",
        "outputId": "c6da1f2d-e19c-4844-8eee-de7c7ac6c319"
      },
      "source": [
        "primeiro_nome = ['Pedro', 'Patricia', 'Lilian','Monica']\n",
        "\n",
        "ultimo_nome = ['Machado', 'Oliveira', 'Silva', 'Nunes']\n",
        "\n",
        "def nomes_completos(nomes, sobrenomes):\n",
        "    \n",
        "    # Junta nomes de duas listas sob o mesmo índice\n",
        "\n",
        "    nome_completo = [] # Cria uma nova lista para os nomes completos\n",
        "\n",
        "    for index in range(len(primeiro_nome)): # O loop usa o comprimento da primeira lista como limite do range\n",
        "        \n",
        "        NomeCompleto = str(nomes[index]) + ' ' + str(sobrenomes[index]) # Junta os nomes somando strings do mesmo índice de listas diferentes\n",
        "        \n",
        "        nome_completo.append(NomeCompleto) # grava na lista de nomes completos\n",
        "    \n",
        "    return nome_completo # retorna a lista de nomes completos\n",
        "\n",
        "lista_de_nomes = nomes_completos(primeiro_nome, ultimo_nome) # aplica a função às listas originais\n",
        "\n",
        "print(lista_de_nomes) # imprime o resultado"
      ],
      "execution_count": 35,
      "outputs": [
        {
          "output_type": "stream",
          "name": "stdout",
          "text": [
            "['Pedro Machado', 'Patricia Oliveira', 'Lilian Silva', 'Monica Nunes']\n"
          ]
        }
      ]
    },
    {
      "cell_type": "markdown",
      "metadata": {
        "id": "JGLO9hgX838K"
      },
      "source": [
        "# Exercício 10\n",
        "Dada um lista como entrada, escreva uma função que retorne uma lista com os números menores que 10. Por exemplo;\n",
        "se a lista de entrada for [1,12,13,6,7,9] a saída deverá ser [1,6,7,9].\n"
      ]
    },
    {
      "cell_type": "code",
      "metadata": {
        "id": "sT_rF37KFosr"
      },
      "source": [
        "def menores_que_10(numeros):\n",
        "    novos_numeros = [] # lista temporária para abrigar itens da lista final\n",
        "\n",
        "    for item in numeros:\n",
        "        \n",
        "        if item <= 10: # Adiciono item de 'numeros' à lista 'novos_numeros' caso esse item seja menor que 10\n",
        "            novos_numeros.append(item)\n",
        "\n",
        "    return novos_numeros"
      ],
      "execution_count": 36,
      "outputs": []
    },
    {
      "cell_type": "code",
      "metadata": {
        "colab": {
          "base_uri": "https://localhost:8080/"
        },
        "id": "zcRxHmCFHn4t",
        "outputId": "59682844-6dff-4c2c-8444-ab950459b8fe"
      },
      "source": [
        "while True: # Loop para tomar a lista como entrada\n",
        "    try:\n",
        "        string_input = input('Insira a lista de entrada usando como separador somente uma vírgula (ex: 1,2,12): ') # recebe os valores como uma única string\n",
        "\n",
        "        split_input = string_input.split(',') # separa essa string em várias strings cortadas nas vírgulas\n",
        "\n",
        "        float_list = [float(item) for item in split_input] # transforma cada uma dessas strings em float\n",
        "        \n",
        "        break\n",
        "    \n",
        "    except: # caso haja algum valor que não pode ser transformado em float, imprime a mensagem de erro e tenta novamente receber a entrada\n",
        "        print('Lista inválida. A lista deve conter somente números reais separados por vírgula.')\n",
        "\n",
        "# imprime o resultado da função aplicada à lista de entrada\n",
        "print(menores_que_10(float_list))"
      ],
      "execution_count": 37,
      "outputs": [
        {
          "output_type": "stream",
          "name": "stdout",
          "text": [
            "Insira a lista de entrada usando como separador somente uma vírgula (ex: 1,2,12): 1,12,13,6,7,9\n",
            "[1.0, 6.0, 7.0, 9.0]\n"
          ]
        }
      ]
    },
    {
      "cell_type": "markdown",
      "metadata": {
        "id": "TTOm4RsE9DOf"
      },
      "source": [
        "# Exercício 11\n",
        "Crie uma função que printe todas os pares de chaves e valores com o .format(). Use o dicionário pessoas = { 'Marcelo':\n",
        "'azul', 'Lilian': 'marrom', 'Bruna': 'azul', 'Leandro': 'marrom', 'Tadeu': 'verde'}, o output deverá ser: Output should be:\n",
        "Marcelo tem olhos azul, Lilian tem olhos marrom, Bruna tem olhos azul, Leandro tem olhos marrom, Tadeu tem olhos\n",
        "verde. \n"
      ]
    },
    {
      "cell_type": "code",
      "metadata": {
        "colab": {
          "base_uri": "https://localhost:8080/"
        },
        "id": "ChYyF9vV9uQ-",
        "outputId": "afd04a2f-029b-4dbc-d76c-499024bc766c"
      },
      "source": [
        "pessoas = { 'Marcelo':'azul',\n",
        "            'Lilian': 'marrom',\n",
        "            'Bruna': 'azul',\n",
        "            'Leandro': 'marrom',\n",
        "            'Tadeu': 'verde' }\n",
        "\n",
        "def texto_dic(dicionario):\n",
        "\n",
        "    # Itera sobre as chaves em um dicionário\n",
        "    # se refere aos valores usando o \"resultado\" de dicionario[chave]\n",
        "    # printa uma string contendo par valor e chave\n",
        "\n",
        "    for chave in pessoas:\n",
        "        print('{} tem olhos {}'.format(chave, dicionario[chave]))\n",
        "\n",
        "texto_dic(pessoas)"
      ],
      "execution_count": 38,
      "outputs": [
        {
          "output_type": "stream",
          "name": "stdout",
          "text": [
            "Marcelo tem olhos azul\n",
            "Lilian tem olhos marrom\n",
            "Bruna tem olhos azul\n",
            "Leandro tem olhos marrom\n",
            "Tadeu tem olhos verde\n"
          ]
        }
      ]
    },
    {
      "cell_type": "markdown",
      "metadata": {
        "id": "3ogoqPz3_fXj"
      },
      "source": [
        "# Exercício 12 \n",
        "Usando a função map e função lambda, crie uma função que duplique e subtraia 1 dos elementos de uma lista.\n"
      ]
    },
    {
      "cell_type": "code",
      "metadata": {
        "colab": {
          "base_uri": "https://localhost:8080/"
        },
        "id": "swR9abiZCGUV",
        "outputId": "407153bd-3f06-43a6-f38b-fafce63d8973"
      },
      "source": [
        "valores = [1, 2, 3, 5, 7, 9]\n",
        "\n",
        "novos_valores = map(lambda x: 2*x - 1, valores) # Cria um item do tipo map usando como função a função lambda e como iterável forneço \"valores\"\n",
        "\n",
        "print(list(novos_valores)) # Transforma o item do tipo map para list, e depois printa"
      ],
      "execution_count": 39,
      "outputs": [
        {
          "output_type": "stream",
          "name": "stdout",
          "text": [
            "[1, 3, 5, 9, 13, 17]\n"
          ]
        }
      ]
    },
    {
      "cell_type": "markdown",
      "metadata": {
        "id": "0I1re1wkDL8P"
      },
      "source": [
        "# Exercicío 13 \n",
        "Use a função reduce junto com uma lambda para multiplicar os números de uma lista.\n"
      ]
    },
    {
      "cell_type": "code",
      "metadata": {
        "colab": {
          "base_uri": "https://localhost:8080/"
        },
        "id": "685MDKIKDOn9",
        "outputId": "9f2187e3-60d3-4eff-a471-6c962b967f3e"
      },
      "source": [
        "valores = [2, 3, 5, 7, 9]\n",
        "\n",
        "import functools # Importa o módulo necessário\n",
        " \n",
        "functools.reduce(lambda x, y: x*y, valores) # aplica reduce seguindo a lambda x*y primeiro a 2 e 3, resultando em 6\n",
        "                                            # depois aplica novamente a lambda ao resultado anterior 6 e ao próximo item 5, resultando em 30\n",
        "                                            # Faz isso até o fim da lista, multiplicando todos"
      ],
      "execution_count": 40,
      "outputs": [
        {
          "output_type": "execute_result",
          "data": {
            "text/plain": [
              "1890"
            ]
          },
          "metadata": {},
          "execution_count": 40
        }
      ]
    }
  ]
}